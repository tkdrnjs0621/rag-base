{
 "cells": [
  {
   "cell_type": "code",
   "execution_count": 1,
   "metadata": {},
   "outputs": [],
   "source": [
    "from datasets import load_dataset"
   ]
  },
  {
   "cell_type": "code",
   "execution_count": 6,
   "metadata": {},
   "outputs": [],
   "source": [
    "import json\n",
    "a=[]\n",
    "with open('data/eval_data/triviaqa_test.jsonl') as f:\n",
    "    for line in f:\n",
    "        a.append(json.loads(line))"
   ]
  },
  {
   "cell_type": "code",
   "execution_count": 9,
   "metadata": {},
   "outputs": [
    {
     "data": {
      "application/vnd.jupyter.widget-view+json": {
       "model_id": "dadcb86e9ce344c987c610b9a6a7a613",
       "version_major": 2,
       "version_minor": 0
      },
      "text/plain": [
       "Generating train split: 0 examples [00:00, ? examples/s]"
      ]
     },
     "metadata": {},
     "output_type": "display_data"
    }
   ],
   "source": [
    "from datasets import Dataset\n",
    "a = Dataset.from_json('data/eval_data/triviaqa_test.jsonl')"
   ]
  },
  {
   "cell_type": "code",
   "execution_count": 10,
   "metadata": {},
   "outputs": [
    {
     "name": "stdout",
     "output_type": "stream",
     "text": [
      "11313\n"
     ]
    }
   ],
   "source": [
    "print(len(a))"
   ]
  },
  {
   "cell_type": "code",
   "execution_count": 8,
   "metadata": {},
   "outputs": [
    {
     "name": "stdout",
     "output_type": "stream",
     "text": [
      "{'id': 'tc_2', 'answers': ['David Seville', 'david seville'], 'question': 'Who was the man behind The Chipmunks?', 'ctxs': [{'id': '3333449', 'title': 'Ross Bagdasarian Sr.', 'text': 'Ross Bagdasarian Sr. Rostom \"Ross\" Sipan Bagdasarian (January 27, 1919 – January 16, 1972), better known by the stage name David Seville, was an American singer-songwriter and actor, best known for creating the novelty musical group The Chipmunks (now better known as \"Alvin and the Chipmunks\"). Initially a stage and film actor, he rose to prominence in 1958 with the songs \"Witch Doctor\" and \"The Chipmunk Song (Christmas Don\\'t Be Late)\", which both became \"Billboard\" number-one singles. He produced and directed \"The Alvin Show\", which aired on CBS in 1961–62. Rostom Sipan Bagdasarian was born in Fresno, California to Armenian', 'score': '1.4591553'}, {'id': '6549635', 'title': 'Chipmunk Punk', 'text': 'To The Movies\". Chipmunk creator/producer Ross Bagdasarian Sr. (also known as David Seville), who also provided the voices for the characters, died of a heart attack in 1972, bringing all Chipmunk activity to an abrupt halt. Though this release followed a long dormancy record-wise, the characters had returned to public view via Saturday morning repeats of the cartoon series \"The Alvin Show\" on NBC in 1979. The album sparked a second run of the characters and led to another Saturday morning cartoon series, \"Alvin and the Chipmunks\", which began in 1983 and also aired on NBC. The album met mixed', 'score': '1.4084582'}, {'id': '2258499', 'title': 'Alvin and the Chipmunks', 'text': 'Alvin and the Chipmunks Alvin and the Chipmunks, originally David Seville and the Chipmunks or simply the Chipmunks, is an American animated music group created by Ross Bagdasarian Sr. for a novelty record in 1958. The group consists of three singing animated anthropomorphic chipmunks: Alvin, the mischievous troublemaker, who quickly became the star of the group; Simon, the tall, bespectacled intellectual; and Theodore, the chubby, impressionable sweetheart. The trio is managed by their human adoptive father, David (Dave) Seville. In reality, \"David Seville\" was Bagdasarian\\'s stage name, and the Chipmunks themselves are named after the executives of their original record', 'score': '1.4069932'}, {'id': '3010770', 'title': 'David Seville', 'text': 'association with Bagdasarian Productions, which owns the rights to all of the characters. David Seville David \"Dave\" Seville is a fictional character, the producer and manager of the fictional singing group \"Alvin and the Chipmunks\". The character was created by Ross Bagdasarian Sr. Bagdasarian had used the name \"David Seville\" as his stage name prior to the creation of the Chipmunks, while writing and recording novelty records in the 1950s. One of the records, recorded under the David Seville stage name, was \"Witch Doctor\", featuring a sped-up high-pitched vocal technique that Bagdasarian would later use in \"The Chipmunk Song (Christmas', 'score': '1.3916'}, {'id': '10116662', 'title': 'Andy Luckey', 'text': 'as Alvin and the Chipmunks. Ralph Guggenheim, Producer of the 1995 animated feature Toy Story said in interviews to Animation Magazine and other publications that the Toy Story character Andy Davis was named and based on Andy Luckey, whose father Bud Luckey was a character designer and story artist on all three films. The \"Davis\" purportedly came from The University of California, Davis of which many of the technology personnel on the film were alumni. Andy Luckey has declined to publicly comment on the connection. From 1992 to 1998, Luckey was involved in the video game industry including stints as', 'score': '1.3793424'}, {'id': '4635607', 'title': 'Ross Bagdasarian Jr.', 'text': 'and coordinate the soundtracks and falsetto voice-overs of The Chipmunks. Bagdasarian went to law school but after his father\\'s death in 1972, succeeded him as the President of Bagdasarian Productions, which had fallen into obscurity after significant success between 1958 and the late 1960s. His wife Janice Karman, whom he married in 1979, is co-president. Bagdasarian and Karman have two children and live in Montecito, California. Under Bagdasarian\\'s supervision, new Chipmunks records were created shortly after his marriage to Karman, including \"Chipmunk Punk\". In 1981, the Chipmunks returned to television in the cartoon special \"A Chipmunk Christmas\". Three years later,', 'score': '1.3680396'}, {'id': '2258565', 'title': 'Alvin and the Chipmunks', 'text': 'Also one episode of \"The Alvin Show\" from the 1960s was released. Alvin and the Chipmunks Alvin and the Chipmunks, originally David Seville and the Chipmunks or simply the Chipmunks, is an American animated music group created by Ross Bagdasarian Sr. for a novelty record in 1958. The group consists of three singing animated anthropomorphic chipmunks: Alvin, the mischievous troublemaker, who quickly became the star of the group; Simon, the tall, bespectacled intellectual; and Theodore, the chubby, impressionable sweetheart. The trio is managed by their human adoptive father, David (Dave) Seville. In reality, \"David Seville\" was Bagdasarian\\'s stage name, and', 'score': '1.3595846'}, {'id': '2258535', 'title': 'Alvin and the Chipmunks', 'text': \"from 2007 to 2015, he is portrayed by Jason Lee. In the 1983–1990 animated series, it is revealed that Dave first found the Chipmunks as infants abandoned on the doorstep of his old cottage. At first, he grows to like them but had trouble keeping them from misbehaving as he had important songs to write or else he'd lose his job. On top of that, Dave's landlord is a nasty man who even tries to kill the Chipmunks. However, Dave eventually hears their amazing singing voices and records them, making their song a hit and with the money they earn\", 'score': '1.3532124'}, {'id': '1687076', 'title': \"Chip 'n Dale: Rescue Rangers\", 'text': \"mouse named Kit Colby who sported a fedora and a fluffy collared leather jacket, and the rest of the team included a chameleon, an earlier version of Gadget, and a character resembling Monterey Jack with a different name. When he proposed the show in a meeting with Michael Eisner and Jeffrey Katzenberg, the idea was well received except for the character of Kit. At Eisner's suggestion, they replaced him with the chipmunk duo to give the show some established Disney characters to work with. By late 1987, two years before its television debut, the show was announced under its original\", 'score': '1.3519645'}, {'id': '6322107', 'title': 'A Chipmunk Christmas', 'text': 'A Chipmunk Christmas A Chipmunk Christmas is an animated Christmas television special based on characters from \"Alvin and the Chipmunks\". Produced by Bagdasarian Productions in association with Chuck Jones Enterprises, it first aired on NBC December 14, 1981, nine years after the death of \"Alvin and the Chipmunks\" creator Ross Bagdasarian, Sr. (also known as David Seville). This was the first time that Alvin, Simon and David Seville were voiced by Ross Bagdasarian, Jr. and the first time that Theodore was voiced by Janice Karman. The special starts out with a doctor visiting the family of a sick boy named', 'score': '1.3497999'}, {'id': '4635608', 'title': 'Ross Bagdasarian Jr.', 'text': 'Ruby-Spears Productions\\' \"Alvin and the Chipmunks\" Saturday morning cartoon series debuted on NBC. Based on that series, a feature film, \"The Chipmunk Adventure\" was released in 1987. Bagdasarian voices Alvin, Simon, and Dave Seville, and Karman voices Theodore and The Chipettes (Brittany, Jeanette, and Eleanor). Bagdasarian and Karman hold tight creative and financial control over the \"Chipmunk\" franchise, reviewing each and every business contract in great detail. In the mid-90s, Bagdasarian bought the \"Chipmunk\" rights from brother Adam and a sister (a stay-at-home mother), to take complete control. Bagdasarian licensed the rights to the Chipmunk characters to Universal Pictures in', 'score': '1.3496108'}, {'id': '2258534', 'title': 'Alvin and the Chipmunks', 'text': 'the musical trio and Chipmunks\\' adoptive father and confidant. While Dave struggles to remain calm and objective, Alvin often irritates him, causing Dave to yell \"Alvin!\", to which Alvin (sometimes) responds with \"Okay!\" Dave plays piano and the guitar. He has short black hair and brown eyes. In the original incarnations of the group (including the original recordings and \"The Alvin Show\") he is portrayed by Alvin and the Chipmunks creator Ross Bagdasarian Sr. In the 1983–1990 revival of the show, he is portrayed by Ross Bagdasarian Jr., the son of the original creator. For the series of films produced', 'score': '1.3463221'}, {'id': '4635609', 'title': 'Ross Bagdasarian Jr.', 'text': '1996, resulting in a string of Universal-produced direct-to-video films. Four years later, he and Karman sued them for breach of contract, claiming that Universal failed to properly utilize, market, and merchandise the characters and hence resulting in a loss of royalties to Bagdasarian. The case was decided in Bagdasarian\\'s favor. \"For us, it was a custody battle\", Karman said. \"They finally realized \\'OK, these two are really fighting for their kids\\'.\" <small> Ross Bagdasarian Jr. Ross Dickran Bagdasarian (born May 6, 1949) is an American filmmaker and musician, best known for his work on the \"Alvin and the Chipmunks\" franchise.', 'score': '1.3422656'}, {'id': '17823190', 'title': 'Alvin and the Chipmunks (2015 TV series)', 'text': \"The Chipettes' new looks resembling the iMunk looks. The show serves as an update of the 1980s series utilizing the same theme song, voice actors Ross Bagdasarian, Jr. and Janice Karman, and format with each episode having a song. The series producers are Ross Bagdasarian, Jr., Janice Karman, Sandrine Nguyen, and Boris Hertzog from the American production company Bagdasarian Productions and French Companies OuiDo! Productions and Moonscoop. OuiDo! Productions and Moonscoop handles the animation and storyboards, with Bagdasarian Productions in charge of voices and music. PGS Entertainment acquired the rights for media outside the United States and France in August\", 'score': '1.3396066'}, {'id': '1365774', 'title': \"Chip 'n' Dale\", 'text': 'Chip \\'n\\' Dale Chip and Dale (also rendered as Chip \\'n\\' Dale or Chip an\\' Dale) are two chipmunk cartoon characters created at Walt Disney Productions in 1943. Their names are a pun based on the name of the famous 18th-century cabinet maker and furniture designer Thomas Chippendale. This was suggested by Bill \"Tex\" Henson, a story artist at the studio. Of the two, Chip is portrayed as being safe, focused, and having a mind for logical scheming. Dale, by contrast, is more laid-back, dim-witted, and impulsive, and has a very strong sense of humor. Originally the two had a', 'score': '1.3387566'}, {'id': '3010767', 'title': 'David Seville', 'text': 'David Seville David \"Dave\" Seville is a fictional character, the producer and manager of the fictional singing group \"Alvin and the Chipmunks\". The character was created by Ross Bagdasarian Sr. Bagdasarian had used the name \"David Seville\" as his stage name prior to the creation of the Chipmunks, while writing and recording novelty records in the 1950s. One of the records, recorded under the David Seville stage name, was \"Witch Doctor\", featuring a sped-up high-pitched vocal technique that Bagdasarian would later use in \"The Chipmunk Song (Christmas Don\\'t Be Late)\", which would introduce both Alvin and the Chipmunks as a', 'score': '1.3377781'}, {'id': '2258509', 'title': 'Alvin and the Chipmunks', 'text': 'own title was released by Dell in 1962. The first television series to feature the characters was \"The Alvin Show\". The cartoon gave more distinctive looks and personalities to the three chipmunks than just their voices, and an animated portrayal of Seville was a reasonable caricature of Bagdasarian himself. The series ran from 1961 to 1962, and was one of a small number of animated series to be shown in prime time on CBS. Unfortunately, it was never an immediate success in prime time and was canceled after one season, only to find new life in syndication. In addition to', 'score': '1.3372475'}, {'id': '2258505', 'title': 'Alvin and the Chipmunks', 'text': 'a duet with his own sped-up voice as the bird. It also reached the Top 40, peaking at No. 34. While driving in Sequoia National Park, Bagdasarian saw a chipmunk dash in front of him. That moment inspired him to create his chipmunk characters. The technique was imitated by Sheb Wooley\\'s \"Purple People Eater\" and The Big Bopper\\'s \"The Purple People Eater Meets the Witch Doctor.\" The Chipmunks first officially appeared on the scene in a novelty record released in late fall 1958 by Bagdasarian. The song, originally listed on the record label (Liberty F-55168) as \"The Chipmunk Song (Christmas', 'score': '1.3366044'}, {'id': '3010768', 'title': 'David Seville', 'text': 'singing group and Bagdasarian\\'s music producer \"Dave\". Bagdasarian would go on to create \"The Alvin Show\", based on the Alvin and the Chipmunks group, where he voiced the semi-fictional character David Seville, based largely on himself, with Alvin based on Ross\\'s sometimes rebellious son Adam. Bagdasarian Sr. died in 1972, and his son (Adam\\'s brother) Ross Bagdasarian Jr. took over ownership of Bagdasarian Productions. He reprised the David Seville character, first in a series of novelty albums beginning with 1980\\'s \"Chipmunk Punk\". Bagdasarian Jr. subsequently assumed the role on the TV series \"Alvin and the Chipmunks\", which ran in original', 'score': '1.3235252'}, {'id': '3333456', 'title': 'Ross Bagdasarian Sr.', 'text': 'Sing the Beatles Hits\" in 1964 during the British Invasion. Bagdasarian then produced \"The Alvin Show\", a TV cartoon broadcast on CBS from October 1961 to September 1962. Bagdasarian lived with family in Los Angeles since 1950. In the mid-1960s he bought Sierra Wine Corp., a winery that supplied product, among others, to E & J Gallo Winery. He died of a heart attack at his home in Beverly Hills on January 16, 1972. He was cremated and inurned at the Chapel of the Pines Crematory in Los Angeles. Bagdasarian willed the Chipmunks franchise to his wife and three children:', 'score': '1.321888'}]}\n"
     ]
    }
   ],
   "source": [
    "print(a[0])"
   ]
  }
 ],
 "metadata": {
  "kernelspec": {
   "display_name": "torch_241",
   "language": "python",
   "name": "python3"
  },
  "language_info": {
   "codemirror_mode": {
    "name": "ipython",
    "version": 3
   },
   "file_extension": ".py",
   "mimetype": "text/x-python",
   "name": "python",
   "nbconvert_exporter": "python",
   "pygments_lexer": "ipython3",
   "version": "3.9.19"
  }
 },
 "nbformat": 4,
 "nbformat_minor": 2
}
