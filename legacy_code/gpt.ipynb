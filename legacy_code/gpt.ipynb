{
 "cells": [
  {
   "cell_type": "code",
   "execution_count": 2,
   "metadata": {},
   "outputs": [
    {
     "data": {
      "text/plain": [
       "True"
      ]
     },
     "execution_count": 2,
     "metadata": {},
     "output_type": "execute_result"
    }
   ],
   "source": [
    "import openai\n",
    "from dotenv import load_dotenv\n",
    "import os\n",
    "from openai import OpenAI\n",
    "\n",
    "load_dotenv()"
   ]
  },
  {
   "cell_type": "code",
   "execution_count": 12,
   "metadata": {},
   "outputs": [
    {
     "name": "stdout",
     "output_type": "stream",
     "text": [
      "The retrieved passages still do not directly address the specific question about income tax on an online drop-shipping business in India. Passage 1 is somewhat relevant as it discusses taxation for individuals and companies in eCommerce, but it lacks specific details about drop-shipping.\n",
      "\n",
      "To improve the query, we should focus more on the drop-shipping model and its specific tax implications in India, possibly including terms like \"eCommerce\" and \"business income\" to capture relevant tax laws.\n",
      "\n",
      "Refined Queries:\n",
      "[(\"Income tax for eCommerce and drop-shipping businesses in India\", 1.0), (\"Taxation rules for online drop-shipping in India\", 0.9), (\"How are eCommerce and drop-shipping profits taxed in India\", 0.8)]\n"
     ]
    }
   ],
   "source": [
    "client = OpenAI(api_key=os.environ['OPENAI_API_KEY'])\n",
    "\n",
    "completion = client.chat.completions.create(\n",
    "    model=\"gpt-4o-2024-08-06\",\n",
    "    messages=[\n",
    "        {\"role\": \"system\", \"content\": \"\"\"You are a language model specializing in weighted query refinement. Your task is to improve provided queries by assigning weights to refine them based on insights gained from iterative retrieval processes.\n",
    "\n",
    "Process:\n",
    "\n",
    "You will be provided with an original question, a query, and retrieved passages.\n",
    "Analyze step-by-step whether the retrieved passages contain a relevant passage that directly answers the original question.\n",
    "If a relevant passage is not retrieved:\n",
    "Identify why the retrieved passages were irrelevant.\n",
    "Strategize adjustments to the query and its weights to guide the dense retriever in finding the correct passage.\n",
    "You may generate up to 3 refined queries, assigning weights to each. Higher-weighted queries indicate greater importance, while lower-weighted ones are less critical.\n",
    "If a relevant passage is retrieved:\n",
    "Stop refining and provide the final query without further modifications.\n",
    "Important Notes:\n",
    "All retrieval is performed by an external dense retriever.\n",
    "Ensure that queries are rewritten in a form optimized for understanding by the dense retriever.\n",
    "\n",
    "after the reasoning, BE SURE TO Answer the final answers with form of list with single line including the bracket, without numbering [(\"query1\", weight1),(\"query2\", weight2),..]\n",
    "\"\"\"},\n",
    "        {\n",
    "            \"role\": \"user\",\n",
    "            \"content\": \n",
    "\"\"\"[Original Question] Income tax on my online drop-shipping business (India)\n",
    "[Query 0][Weight : 1.0] Income tax on my online drop-shipping business (India)\n",
    "\n",
    "[Retrieved Passages]\n",
    "<Passage 0> I am from India. I visited US 6-8 times on business VISA and then started 2 Member LLC. Myself and My wife as LLC Members. We provide Online Training to american students from India. Also Got EIN number. Never employed any one. Do i need to pay taxes? Students from USA pays online by Paypal and i am paying taxes in India. Do i need to pay Taxes in US? DO i need to file the Tax returns? Please guide me. I formed LLC in 2010. I opened an Office-taken Virtual office for 75 USD per month to open LLC in 2010. As there is physical virtual address, am i liable for US taxes? All my earning is Online, free lancing.\n",
    "<Passage 1> Every month I will get a return in from my share of the profit which would be used for repayment of capital and interest in India. Not to sure what the business plan is. Please factor all the modalities, Exchange rate fluctuations, etc. My concern is regarding RBI rules and regulations, FEMA guidelines, and Income tax. Under the Liberalized Remittance Scheme; Funds can be transferred outside India. Any profit you make will be taxable in India. You will have to declare this pay tax in as per schedule.\n",
    "<Passage 2> I believe I have to pay taxes in US since it is a US broker. No, not at all. The fact that the broker is a US broker has nothing to do with your tax liabilities. You should update the banks and the broker with your change of status submitting form W8-BEN to them. Consult a tax professional proficient with Indo-US tax treaty as to what you should put in part II. The broker might withhold some of your income and remit it as taxes to the IRS based on what you put in W8-BEN and the type of income, but you can have it refunded (if it exceeds your liability) by submitting a tax return (form 1040-NR). You do have to pay tax in India, based on the Indian tax law, for your profits in the US. Consult with an Indian tax accountant on that. If I'm not mistaken, there are also currency transfer restrictions in India that you should be aware of.\n",
    "<Passage 3> Under Income Tax Act, tax liability depends on residency as defined under section 6 of the Income Tax Act, and not on citizenship. If you are resident in India, then your global income is taxable. As it appears from your question, you are not resident of India (182 days stay in India in a FY), as such you will have absolutely no tax liability for whatever income you earn outside India.\n",
    "<Passage 4> Tax Deducted at source is applicable to Employee / Employer [contract employee] relations ... it was also made applicable for cases where an Indian company pays for software products [like MS Word etc] as the product is not sold, but is licensed and is treated as Royalty [unlike sale of a consumer product, that you have, say car] ... Hence it depends on how your contract is worded with your India clients, best is have it as a service agreement. Although services are also taxed, however your contract should clearly specify that any tax in India would be borne by your Indian Client ... Cross Country taxation is an advanced area, you will not find good advice free :)\n",
    "\"\"\"\n",
    "        },\n",
    "        \n",
    "    \n",
    "    {\n",
    "        'role':'assistant',\n",
    "        'content':\n",
    "\"\"\"The retrieved passages do not directly address the original question about income tax on an online drop-shipping business in India. The passages discuss various tax scenarios, including US tax obligations, residency-based tax liabilities, and tax deducted at source, but none specifically relate to drop-shipping or the Indian context for such a business.\n",
    "\n",
    "To refine the query, we should focus on the specific context of drop-shipping and Indian tax regulations. The refined queries should emphasize the business model and the jurisdiction to guide the retriever towards more relevant information.\n",
    "\n",
    "Refined Queries:\n",
    "[(\"Income tax regulations for online drop-shipping business in India\", 1.0), (\"Tax obligations for Indian drop-shipping businesses\", 0.8), (\"How is drop-shipping income taxed in India\", 0.7)]\n",
    "\"\"\"\n",
    "    },\n",
    "    {\n",
    "        'role':'user',\n",
    "        'content':\n",
    "\"\"\"[Original Question] Income tax on my online drop-shipping business (India)\n",
    "[Query 0][Weight : 1.0] Income tax regulations for online drop-shipping business in India\n",
    "[Query 1][Weight : 0.8] Tax obligations for Indian drop-shipping businesses\n",
    "[Query 2][Weight : 0.7] How is drop-shipping income taxed in India\n",
    "\n",
    "[Retrieved Passages]\n",
    "<Passage 0> Tax Deducted at source is applicable to Employee / Employer [contract employee] relations ... it was also made applicable for cases where an Indian company pays for software products [like MS Word etc] as the product is not sold, but is licensed and is treated as Royalty [unlike sale of a consumer product, that you have, say car] ... Hence it depends on how your contract is worded with your India clients, best is have it as a service agreement. Although services are also taxed, however your contract should clearly specify that any tax in India would be borne by your Indian Client ... Cross Country taxation is an advanced area, you will not find good advice free :)\n",
    "<Passage 1> There are no clear guidelines. If you are selling as individual, then what ever profit you make gets added to your overall income as you pay tax accordingly. This is true for sole proprietor or partnership kind of firms. If you are registered as a Company, the profits are taxed as business income. There may be VAT and other taxes. Please consult a CA who can guide you in specifics as for eCommerce, there is no defined law and one has to interpret various other tax laws.\n",
    "<Passage 2> From you question I understand that you are not an Indian citizen, are staying in India, and transferring your funds for your living / expenses in India. There is no limit on such transfers and the amount is not taxed.   The tax comes into picture if you are treated as a resident in India from a tax perspective. Even then the tax is not because you have transferred the funds into India, but the policy of taxing global income. The article at http://www.pwc.in/en_IN/in/assets/pdfs/foreign-nationals-working-in-india.pdf should give you more inputs.\n",
    "<Passage 3> Every month I will get a return in from my share of the profit which would be used for repayment of capital and interest in India. Not to sure what the business plan is. Please factor all the modalities, Exchange rate fluctuations, etc. My concern is regarding RBI rules and regulations, FEMA guidelines, and Income tax. Under the Liberalized Remittance Scheme; Funds can be transferred outside India. Any profit you make will be taxable in India. You will have to declare this pay tax in as per schedule.\n",
    "<Passage 4> Are there any IRS regulations I should be aware of when sending money to India? None. As long as you are following the standard banking channels. You are also declaring all the accounts held outside US in your tax returns. FBAR. Is it legal to do so?  Yes it is legal. do I have to declare how much I am investing and pay extra taxes? As part of FBAR. Income earned [including interest, capital gains, etc] needs to be paid in India [there are some exemptions for example interest on NRE accounts] as well as in the US [relief can be claimed under DTAA Indian version here and US here]. So if you already have paid taxes on salary and say transfer USD 10K to India; there is no tax on this 10K. If this 10K generates an income of say 2K; this 2K is taxable as per normal classification and rules.\n",
    "\"\"\"\n",
    "    }\n",
    "\n",
    "    ],\n",
    "\n",
    "    temperature=0,\n",
    "    top_p=1,\n",
    ")\n",
    "\n",
    "print(completion.choices[0].message.content)"
   ]
  },
  {
   "cell_type": "code",
   "execution_count": null,
   "metadata": {},
   "outputs": [],
   "source": []
  }
 ],
 "metadata": {
  "kernelspec": {
   "display_name": "torch_241",
   "language": "python",
   "name": "python3"
  },
  "language_info": {
   "codemirror_mode": {
    "name": "ipython",
    "version": 3
   },
   "file_extension": ".py",
   "mimetype": "text/x-python",
   "name": "python",
   "nbconvert_exporter": "python",
   "pygments_lexer": "ipython3",
   "version": "3.9.19"
  }
 },
 "nbformat": 4,
 "nbformat_minor": 2
}
