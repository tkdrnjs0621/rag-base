{
 "cells": [
  {
   "cell_type": "code",
   "execution_count": 1,
   "metadata": {},
   "outputs": [],
   "source": [
    "from datasets import load_dataset, Value\n",
    "import transformers\n",
    "from transformers import AutoTokenizer, AutoModel\n",
    "import torch\n",
    "import argparse\n",
    "import json\n",
    "from tqdm import tqdm\n",
    "import os\n",
    "import numpy as np\n",
    "import faiss\n",
    "from multiprocessing import Process, Queue"
   ]
  },
  {
   "cell_type": "code",
   "execution_count": 9,
   "metadata": {},
   "outputs": [],
   "source": [
    "def mean_pooling(token_embeddings, mask):\n",
    "    token_embeddings = token_embeddings.masked_fill(~mask[..., None].bool(), 0.)\n",
    "    sentence_embeddings = token_embeddings.sum(dim=1) / mask.sum(dim=1)[..., None]\n",
    "    return sentence_embeddings\n",
    "\n",
    "def encode(text, model, tokenizer):\n",
    "    inputs = tokenizer(text, return_tensors=\"pt\", padding=True, truncation=True).to(model.device)\n",
    "    outputs = model(**inputs)\n",
    "    return np.array(mean_pooling(outputs.last_hidden_state, inputs['attention_mask']).detach().cpu())"
   ]
  },
  {
   "cell_type": "code",
   "execution_count": 2,
   "metadata": {},
   "outputs": [],
   "source": [
    "os.environ['CUDA_VISIBLE_DEVICES']='0,1,2,3'"
   ]
  },
  {
   "cell_type": "code",
   "execution_count": 3,
   "metadata": {},
   "outputs": [
    {
     "data": {
      "application/vnd.jupyter.widget-view+json": {
       "model_id": "c66f8a4aaf234536b289a228e06cda86",
       "version_major": 2,
       "version_minor": 0
      },
      "text/plain": [
       "Creating json from Arrow format:   0%|          | 0/2682 [00:00<?, ?ba/s]"
      ]
     },
     "metadata": {},
     "output_type": "display_data"
    },
    {
     "data": {
      "text/plain": [
       "1447661927"
      ]
     },
     "execution_count": 3,
     "metadata": {},
     "output_type": "execute_result"
    }
   ],
   "source": [
    "nq_corpus = load_dataset('BeIR/nq','corpus')['corpus']\n",
    "nq_corpus.to_json('data/nq_corpus.jsonl', orient=\"records\", lines=True)"
   ]
  },
  {
   "cell_type": "code",
   "execution_count": 4,
   "metadata": {},
   "outputs": [
    {
     "data": {
      "application/vnd.jupyter.widget-view+json": {
       "model_id": "f21cd3731a29426ba0bfce06f0b3d05e",
       "version_major": 2,
       "version_minor": 0
      },
      "text/plain": [
       "Generating train split: 0 examples [00:00, ? examples/s]"
      ]
     },
     "metadata": {},
     "output_type": "display_data"
    }
   ],
   "source": [
    "dataset = load_dataset('json', data_files='data/nq_corpus.jsonl')[\"train\"]\n",
    "data = [t if t is not None else '' for t in dataset['text']]"
   ]
  },
  {
   "cell_type": "code",
   "execution_count": 5,
   "metadata": {},
   "outputs": [],
   "source": [
    "def process_chunk(gpu_id, chunk, tokenizer_path, model_path, queue, batch_size):\n",
    "    # Assign GPU\n",
    "    torch.cuda.set_device(gpu_id)\n",
    "    device = f'cuda:{gpu_id}'\n",
    "\n",
    "    # Load tokenizer and model\n",
    "    tokenizer = AutoTokenizer.from_pretrained(tokenizer_path)\n",
    "    model = AutoModel.from_pretrained(model_path).to(device)\n",
    "    model.eval()\n",
    "\n",
    "    # Create a local FAISS index\n",
    "    index = faiss.IndexFlatIP(768)\n",
    "\n",
    "    with torch.no_grad():\n",
    "        for i in tqdm(range(0, len(chunk), batch_size), desc=f\"GPU {gpu_id}\"):\n",
    "            batch = chunk[i:i + batch_size]\n",
    "            inputs = tokenizer(batch, return_tensors=\"pt\", padding=True, truncation=True).to(device)\n",
    "            outputs = model(**inputs)\n",
    "            batch_embeddings = mean_pooling(outputs.last_hidden_state, inputs['attention_mask'])\n",
    "            index.add(np.array(batch_embeddings.cpu()))\n",
    "\n",
    "    queue.put((gpu_id,index))\n",
    "\n",
    "def merge_indexes(index_list, save_path):\n",
    "    # Merge multiple FAISS indexes\n",
    "    merged_index = faiss.IndexFlatIP(768)\n",
    "    for idx in index_list:\n",
    "        merged_index.merge_from(idx)\n",
    "    faiss.write_index(merged_index, save_path)"
   ]
  },
  {
   "cell_type": "code",
   "execution_count": 6,
   "metadata": {},
   "outputs": [
    {
     "name": "stderr",
     "output_type": "stream",
     "text": [
      "/home/tkdrnjs0621/miniconda3/envs/torch_241/lib/python3.9/site-packages/transformers/tokenization_utils_base.py:1601: FutureWarning: `clean_up_tokenization_spaces` was not set. It will be set to `True` by default. This behavior will be depracted in transformers v4.45, and will be then set to `False` by default. For more details check this issue: https://github.com/huggingface/transformers/issues/31884\n",
      "  warnings.warn(\n",
      "/home/tkdrnjs0621/miniconda3/envs/torch_241/lib/python3.9/site-packages/transformers/tokenization_utils_base.py:1601: FutureWarning: `clean_up_tokenization_spaces` was not set. It will be set to `True` by default. This behavior will be depracted in transformers v4.45, and will be then set to `False` by default. For more details check this issue: https://github.com/huggingface/transformers/issues/31884\n",
      "  warnings.warn(\n",
      "/home/tkdrnjs0621/miniconda3/envs/torch_241/lib/python3.9/site-packages/transformers/tokenization_utils_base.py:1601: FutureWarning: `clean_up_tokenization_spaces` was not set. It will be set to `True` by default. This behavior will be depracted in transformers v4.45, and will be then set to `False` by default. For more details check this issue: https://github.com/huggingface/transformers/issues/31884\n",
      "  warnings.warn(\n",
      "GPU 1:   0%|          | 22/20949 [00:07<49:09,  7.10it/s]  /home/tkdrnjs0621/miniconda3/envs/torch_241/lib/python3.9/site-packages/transformers/tokenization_utils_base.py:1601: FutureWarning: `clean_up_tokenization_spaces` was not set. It will be set to `True` by default. This behavior will be depracted in transformers v4.45, and will be then set to `False` by default. For more details check this issue: https://github.com/huggingface/transformers/issues/31884\n",
      "  warnings.warn(\n",
      "GPU 3: 100%|██████████| 20949/20949 [44:30<00:00,  7.84it/s] \n",
      "GPU 1: 100%|██████████| 20949/20949 [45:22<00:00,  7.69it/s]\n",
      "GPU 2: 100%|██████████| 20949/20949 [46:12<00:00,  7.56it/s]\n",
      "GPU 0: 100%|██████████| 20949/20949 [47:40<00:00,  7.32it/s]\n"
     ]
    },
    {
     "ename": "TypeError",
     "evalue": "sorted expected 1 argument, got 2",
     "output_type": "error",
     "traceback": [
      "\u001b[0;31m---------------------------------------------------------------------------\u001b[0m",
      "\u001b[0;31mTypeError\u001b[0m                                 Traceback (most recent call last)",
      "Cell \u001b[0;32mIn[6], line 31\u001b[0m\n\u001b[1;32m     28\u001b[0m     p\u001b[38;5;241m.\u001b[39mjoin()\n\u001b[1;32m     30\u001b[0m \u001b[38;5;66;03m# Merge indexes and save\u001b[39;00m\n\u001b[0;32m---> 31\u001b[0m a \u001b[38;5;241m=\u001b[39m \u001b[38;5;28;43msorted\u001b[39;49m\u001b[43m(\u001b[49m\u001b[43mindex_list\u001b[49m\u001b[43m,\u001b[49m\u001b[43m \u001b[49m\u001b[38;5;28;43;01mlambda\u001b[39;49;00m\u001b[43m \u001b[49m\u001b[43mx\u001b[49m\u001b[43m:\u001b[49m\u001b[43m \u001b[49m\u001b[43mx\u001b[49m\u001b[43m[\u001b[49m\u001b[38;5;241;43m0\u001b[39;49m\u001b[43m]\u001b[49m\u001b[43m)\u001b[49m\n\u001b[1;32m     32\u001b[0m a \u001b[38;5;241m=\u001b[39m [t[\u001b[38;5;241m1\u001b[39m] \u001b[38;5;28;01mfor\u001b[39;00m t \u001b[38;5;129;01min\u001b[39;00m a]\n\u001b[1;32m     33\u001b[0m merge_indexes(a, save_path)\n",
      "\u001b[0;31mTypeError\u001b[0m: sorted expected 1 argument, got 2"
     ]
    }
   ],
   "source": [
    "\n",
    "dataset_path = 'data/nq_corpus.jsonl'\n",
    "tokenizer_path = 'facebook/contriever'\n",
    "model_path = 'facebook/contriever'\n",
    "save_path = 'data/nq_corpus.index'\n",
    "batch_size = 32\n",
    "num_gpus = torch.cuda.device_count()\n",
    "num_processes = num_gpus\n",
    "# Split data into chunks\n",
    "chunk_size = len(data) // num_processes\n",
    "chunks = [data[i:i + chunk_size] for i in range(0, len(data), chunk_size)]\n",
    "\n",
    "# Multiprocessing setup\n",
    "processes = []\n",
    "queue = Queue()\n",
    "\n",
    "for gpu_id, chunk in enumerate(chunks[:num_gpus]):\n",
    "    p = Process(target=process_chunk, args=(gpu_id, chunk, tokenizer_path, model_path, queue,batch_size))\n",
    "    processes.append(p)\n",
    "    p.start()\n",
    "\n",
    "# Collect results\n",
    "index_list = []\n",
    "for _ in processes:\n",
    "    index_list.append(queue.get())\n",
    "\n",
    "# Wait for all processes to finish\n",
    "for p in processes:\n",
    "    p.join()\n",
    "\n",
    "# Merge indexes and save\n",
    "a = sorted(index_list,key= lambda x: x[0])\n",
    "a = [t[1] for t in a]\n",
    "merge_indexes(a, save_path)\n",
    "print(f\"Index saved at {save_path}\")"
   ]
  },
  {
   "cell_type": "code",
   "execution_count": 7,
   "metadata": {},
   "outputs": [
    {
     "name": "stdout",
     "output_type": "stream",
     "text": [
      "Index saved at data/nq_corpus.index\n"
     ]
    }
   ],
   "source": [
    "\n",
    "a = sorted(index_list,key= lambda x: x[0])\n",
    "a = [t[1] for t in a]\n",
    "merge_indexes(a, save_path)\n",
    "print(f\"Index saved at {save_path}\")"
   ]
  },
  {
   "cell_type": "code",
   "execution_count": 2,
   "metadata": {},
   "outputs": [],
   "source": [
    "dataset = load_dataset('BeIR/fiqa','queries')['queries']\n",
    "dataset_qrels = load_dataset('BeIR/fiqa-qrels')['train']\n",
    "dataset_qrels= dataset_qrels.cast_column('query-id',Value('string')).cast_column('corpus-id',Value('string'))"
   ]
  },
  {
   "cell_type": "code",
   "execution_count": 3,
   "metadata": {},
   "outputs": [],
   "source": [
    "# dataset_corpus = load_dataset('json', data_files='data/fiqa_corpus.jsonl')[\"train\"]\n",
    "dataset_corpus = load_dataset('BeIR/fiqa','corpus')['corpus']\n",
    "corpus_dict = {row['_id']:row['text'] for row in dataset_corpus}"
   ]
  },
  {
   "cell_type": "code",
   "execution_count": 4,
   "metadata": {},
   "outputs": [],
   "source": [
    "qrels_dict = {}\n",
    "qrels_passage_dict = {}\n",
    "for row in dataset_qrels:\n",
    "    qrels_dict[row['query-id']] = qrels_dict.get(row['query-id'],[])\n",
    "    qrels_dict[row['query-id']].append(row['corpus-id'])"
   ]
  },
  {
   "cell_type": "code",
   "execution_count": 29,
   "metadata": {},
   "outputs": [],
   "source": [
    "index = faiss.read_index('data/fiqa_corpus.index')\n",
    "\n",
    "def search(query_vectors, query_id, top_k):\n",
    "    # print('searching')\n",
    "    scores, indices = index.search(query_vectors, top_k)\n",
    "    # print(indices)\n",
    "    # print('search ended')\n",
    "    ret = []\n",
    "    for s, i in zip(scores[0],indices[0]):\n",
    "        t = dataset_corpus[int(i)]\n",
    "        ret.append((t['_id'], t['_id'] in qrels_dict[query_id],t['text'],s))\n",
    "    return ret"
   ]
  },
  {
   "cell_type": "code",
   "execution_count": 6,
   "metadata": {},
   "outputs": [
    {
     "name": "stderr",
     "output_type": "stream",
     "text": [
      "/home/tkdrnjs0621/miniconda3/envs/torch_241/lib/python3.9/site-packages/transformers/tokenization_utils_base.py:1601: FutureWarning: `clean_up_tokenization_spaces` was not set. It will be set to `True` by default. This behavior will be depracted in transformers v4.45, and will be then set to `False` by default. For more details check this issue: https://github.com/huggingface/transformers/issues/31884\n",
      "  warnings.warn(\n"
     ]
    }
   ],
   "source": [
    "os.environ['CUDA_VISIBLE_DEVICES']='0'\n",
    "tokenizer = AutoTokenizer.from_pretrained('facebook/contriever')\n",
    "model = AutoModel.from_pretrained('facebook/contriever').to('cuda')"
   ]
  },
  {
   "cell_type": "code",
   "execution_count": 52,
   "metadata": {},
   "outputs": [
    {
     "name": "stdout",
     "output_type": "stream",
     "text": [
      "{'_id': '16', 'title': '', 'text': 'Business Investment Loss from prior year'}\n"
     ]
    }
   ],
   "source": [
    "print(dataset[10])"
   ]
  },
  {
   "cell_type": "code",
   "execution_count": 7,
   "metadata": {},
   "outputs": [],
   "source": [
    "res = faiss.StandardGpuResources()  # Initialize GPU resources\n",
    "index = faiss.index_cpu_to_gpu(res, 0, index)  # Move to GPU 0"
   ]
  },
  {
   "cell_type": "code",
   "execution_count": 47,
   "metadata": {},
   "outputs": [
    {
     "name": "stdout",
     "output_type": "stream",
     "text": [
      "[Original Question] Business Expense - Car Insurance Deductible For Accident That Occurred During a Business Trip\n",
      "[Query 0][Weight : 1.0] Business Expense - Car Insurance Deductible For Accident That Occurred During a Business Trip\n",
      "[GOLD] As a general rule, you must choose between a mileage deduction or an actual expenses deduction.  The idea is that the mileage deduction is supposed to cover all costs of using the car.  Exceptions include parking fees and tolls, which can be deducted separately under either method.  You explicitly cannot deduct insurance costs if you claim a mileage deduction.   Separately, you probably won't be able to deduct the deductible for your car as a casualty loss.  You first subtract $100 from the deductible and then divide it by your Adjusted Gross Income (AGI) from your tax return.  If your deductible is over 10% of your AGI, you can deduct it.   Note that even with a $1500 deductible, you won't be able to deduct anything if you made more than $14,000 for the year.  For most people, the insurance deductible just isn't large enough relative to income to be tax deductible.   Source\n",
      "\n",
      "[NON-RELEVANT] \"It depends on what the \"\"true\"\" reason for the trip is.  If you decide to deduct the trip as a business expense, then during an audit you will be asked why you had to go there. If there was nothing accomplished via the travel (that is, you worked from the hotel, met with no clients, visited no tradeshows, etc) then the expense is unlikely to be allowed. Yes, on a business trip you can do sightseeing if you wish (though you can't deduct any sightseeing specific expenses, like admission to a tourist attraction), but if you are just working while on vacation, then the trip itself is not deductible, since there was no business benefit to traveling in the first place.\"\n",
      "[NON-RELEVANT] Credit card fees on a credit card used for personal expenses are not tax deductible. Credit card fees on a business credit card are deductible on schedule C (or whatever form you're using to report business income and expenses). If you are using the same card for both business and personal ... well, for starters, this is a very bad idea, because it creates exactly the question you're asking. If that's what you're doing, stop, and get separate business and personal cards. If you have separate business and personal cards -- and use the business card only for legitimate business expenses -- then the answer is easy: You can claim a schedule C deduction for any service charges on the business card, and you cannot claim any deduction for any charges on the personal card. In general, though, if you have an expense that is partly business and partly personal, you are supposed to figure out what percentage is business, and that is deductible. In an admittedly brief search, I couldn't find anything specifically about credit cards, but I did find this similar idea on the IRS web site: Generally, you cannot deduct personal, living, or family expenses. However, if you have an expense for something that is used partly for business and partly for personal purposes, divide the total cost between the business and personal parts. You can deduct the business part. For example, if you borrow money and use 70% of it for business and the other 30% for a family vacation, you can deduct 70% of the interest as a business expense. The remaining 30% is personal interest and is not deductible. Refer to chapter 4 of Publication 535, Business Expenses, for information on deducting interest and the allocation rules. (https://www.irs.gov/businesses/small-businesses-self-employed/deducting-business-expenses) So, PROBABLY, you could add up all the charges you made on the card, figure out how much was for business and how much for personal, calculate the business percentage, and then deduct this percentage of the service fees. If the amount involved is not trivial, you might want to talk to an accountant or a lawyer.\n",
      "[NON-RELEVANT] Yes, you should be able to deduct at least some of these expenses.  For expense incurred before you started the business: What Are Deductible Startup Costs? The IRS defines “startup costs” as deductible capital expenses that are used to pay for: 1) The cost of “investigating the creation or acquisition of an active trade or business.” This includes costs incurred for surveying markets, product analysis, labor supply, visiting potential business locations and similar expenditures. 2) The cost of getting a business ready to operate (before you open your doors or start generating income). These include employee training and wages, consultant fees, advertising, and travel costs associated with finding suppliers, distributors, and customers. These expenses can only be claimed if your research and preparation ends with the formation of a successful business. The IRS has more information on how to claim the expenses if you don’t go into business. https://www.sba.gov/blogs/startup-cost-tax-deductions-how-write-expense-starting-your-business Once your business is underway, you can deduct expenses, but the exact details depend on how you organized.  If you're a sole proprietor for tax purposes, then you'll deduct them on Schedule C of your Form 1040 on your personal tax.  If you are a partnership, C-Corp, or S-Corp, they will be accounted at the business level and either passed on to you on a Schedule K (partnership and S-Corp) or deducted directly by the company (C-Corp). In any case, you will need good records that justify your expenses as business related. It might be well worth at least an initial meeting with a CPA to make sure that you get started on the right foot.\n",
      "[NON-RELEVANT] Well, if you were a business, and your food and rent and travel expenses were business expenses, and you paid out less money than you earned, you *would* get a refund.  If you can prove that an expense is tax deductible, then that's just what it is.  For businesses, a net operating loss is tax deductible.\n",
      "[NON-RELEVANT] You can deduct this if the main purpose of the trip is to attend the seminar.  Travel expenses relating to the attendance at conferences, seminars and other work-related events are deductible to the extent that they relate to your income-producing activities. You will need to apportion your travel expenses where you undertake both work-related and private activities. Travel costs to and from the location of the work-related event will only be deductible where the primary purpose of the travel was to attend the event. Accommodation, food and other incidental costs must be apportioned between work-related and private activities taking into account the types of activities that you did on the day you incurred the cost. You might like to consider in advance what you would tell them if they questioned this - for instance you might say (if they are true):\n"
     ]
    }
   ],
   "source": [
    "idx = 1\n",
    "id = dataset[idx]['_id']\n",
    "text = dataset[idx]['text']\n",
    "\n",
    "print('[Original Question]',text)\n",
    "# text = 'Taxation rules for online drop-shipping business in India and income tax requirements'\n",
    "tnw = [(text,1.0)]\n",
    "# tnw = [('definition of business expense',1.0),('business trip',0.7),('expense deduction',-0.3)]\n",
    "for i, t in enumerate(tnw):\n",
    "    print(f'[Query {i}][Weight : {t[1]}]',t[0])\n",
    "for t in qrels_dict[id]:\n",
    "    print('[GOLD]',corpus_dict[t])\n",
    "print()\n",
    "rss = {}\n",
    "for t in tnw:\n",
    "    inputs = tokenizer(t[0], return_tensors=\"pt\", padding=True, truncation=True).to('cuda')\n",
    "    outputs = model(**inputs)\n",
    "    embeddings = mean_pooling(outputs.last_hidden_state, inputs['attention_mask'])\n",
    "    rs = search(embeddings.detach().to('cpu'),id,index.ntotal)\n",
    "    for a in rs:\n",
    "        rss[a[0]]=rss.get(a[0],[])\n",
    "        rss[a[0]].append((a[3],a[2],a[1]))\n",
    "rss2 = {}\n",
    "\n",
    "for k,v in rss.items():\n",
    "    rss2[k]=0\n",
    "    for i in range(len(v)):\n",
    "        # print(v[i])\n",
    "        rss2[k]+=v[i][0]*tnw[i][1]\n",
    "\n",
    "sorted_keys = sorted(rss2.keys(), key=lambda k: -rss2[k])\n",
    "\n",
    "for t in sorted_keys[:5]:\n",
    "    print(('[RELEVANT] ' if rss[t][0][2] else '[NON-RELEVANT] ')+rss[t][0][1])\n"
   ]
  },
  {
   "cell_type": "code",
   "execution_count": 81,
   "metadata": {},
   "outputs": [
    {
     "name": "stdout",
     "output_type": "stream",
     "text": [
      "dict_keys([0, 4, 5, 6, 7, 9, 11, 12, 13, 14, 16, 19, 20, 21, 23, 25, 27, 28, 30, 31, 32, 33, 35, 36, 37, 41, 43, 45, 46, 47, 48, 49, 51, 52, 53, 54, 57, 59, 61, 62, 63, 64, 65, 66, 67, 69, 70, 71, 72, 74, 75, 76, 78, 80, 81, 82, 83, 85, 86, 87, 88, 91, 92, 93, 95, 96, 97, 99, 102, 105, 107, 108, 110, 111, 112, 439, 442, 443, 444, 445, 446, 447, 448, 449, 450, 452, 453, 454, 456, 457, 458, 460, 461, 462, 464, 465, 466, 467, 468, 470, 471, 472, 473, 474, 478, 479, 480, 481, 482, 485, 486, 487, 488, 489, 490, 491, 493, 494, 497, 498, 499, 500, 501, 502, 506, 507, 508, 509, 510, 511, 512, 513, 517, 518, 520, 521, 522, 523, 524, 525, 526, 527, 528, 531, 532, 533, 535, 536, 537, 538, 539, 540, 541, 542, 544, 545, 546, 550, 552, 553, 554, 555, 556, 557, 558, 562, 563, 564, 565, 567, 568, 569, 571, 572, 573, 574, 575, 576, 577, 578, 579, 581, 582, 583, 587, 589, 590, 591, 592, 593, 595, 596, 597, 598, 601, 602, 605, 606, 607, 608, 609, 610, 613, 614, 615, 617, 619, 621, 623, 624, 625, 626, 627, 628, 629, 630, 631, 632, 633, 634, 635, 637, 638, 639, 640, 642, 643, 644, 645, 646, 648, 649, 651, 652, 653, 654, 655, 658, 661, 663, 664, 666, 669, 670, 671, 673, 675, 676, 677, 679, 680, 682, 683, 685, 686, 690, 692, 693, 694, 695, 696, 697, 698, 700, 702, 703, 704, 705, 706, 707, 708, 709, 712, 714, 716, 718, 719, 720, 722, 723, 724, 725, 726, 728, 729, 730, 731, 732, 733, 734, 735, 736, 738, 739, 740, 741, 742, 743, 746, 747, 749, 751, 754, 755, 757, 758, 759, 760, 761, 762, 763, 764, 765, 767, 768, 769, 770, 771, 772, 773, 777, 778, 781, 782, 783, 784, 785, 787, 788, 789, 790, 791, 792, 793, 794, 795, 797, 798, 799, 802, 803, 804, 805, 807, 808, 809, 811, 812, 815, 816, 818, 819, 820, 821, 822, 823, 825, 826, 827, 828, 829, 830, 831, 832, 833, 834, 835, 836, 839, 840, 842, 844, 845, 847, 850, 851, 854, 857, 860, 861, 865, 866, 867, 869, 870, 871, 872, 873, 874, 875, 876, 877, 878, 881, 882, 883, 884, 886, 887, 888, 892, 893, 894, 896, 898, 899, 900, 901, 902, 903, 905, 906, 907, 908, 909, 910, 911, 912, 913, 914, 915, 916, 917, 918, 919, 920, 922, 923, 924, 925, 926, 927, 930, 931, 933, 934, 935, 937, 938, 941, 942, 943, 944, 947, 948, 949, 950, 951, 952, 953, 954, 955, 956, 958, 961, 962, 966, 967, 968, 969, 970, 971, 972, 973, 974, 975, 976, 977, 978, 980, 981, 983, 984, 985, 986, 987, 989, 991, 995, 996, 1001, 1012, 1019, 1021, 1022, 1028, 1029, 1030, 1032, 1041, 1044, 1046, 1053, 1054, 1064, 1072, 1073, 1075, 1076, 1077, 1078, 1079, 1080, 1081, 1082, 1083, 1086, 1087, 1092, 1093, 1094, 1098, 1099, 1101, 1102, 1103, 1104, 1105, 1106, 1108, 1109, 1110, 1111, 1113, 1114, 1115, 1116, 1117, 1118, 1119, 1120, 1121, 1122, 1123, 1125, 1126, 1127, 1128, 1129, 1130, 1132, 1133, 1134, 1135, 1136, 1137, 1139, 1140, 1142, 1146, 1147, 1148, 1149, 1153, 1154, 1155, 1156, 1158, 1160, 1161, 1162, 1163, 1164, 1165, 1166, 1167, 1169, 1170, 1171, 1177, 1178, 1181, 1185, 1188, 1189, 1190, 1191, 1194, 1196, 1197, 1199, 1204, 1210, 1215, 1224, 1232, 1244, 1246, 1248, 1249, 1253, 1258, 1264, 1265, 1266, 1267, 1271, 1272, 1273, 1274, 1275, 1277, 1278, 1279, 1280, 1282, 1283, 1285, 1289, 1291, 1293, 1295, 1296, 1298, 1299, 1300, 1301, 1302, 1303, 1304, 1305, 1307, 1308, 1311, 1312, 1313, 1315, 1318, 1323, 1324, 1327, 1328, 1329, 1330, 1332, 1337, 1339, 1342, 1347, 1352, 1353, 1358, 1359, 1360, 1361, 1362, 1363, 1365, 1366, 1367, 1368, 1369, 1371, 1372, 1373, 1376, 1385, 1387, 1388, 1392, 1394, 1395, 1397, 1399, 1400, 1402, 1404, 1407, 1412, 1418, 1421, 1422, 1423, 1425, 1426, 1428, 1431, 1433, 1437, 1438, 1439, 1440, 1443, 1446, 1447, 1449, 1452, 1456, 1460, 1461, 1463, 1464, 1465, 1466, 1470, 1471, 1472, 1474, 1475, 1476, 1477, 1481, 1483, 1485, 1489, 1490, 1492, 1493, 1494, 1495, 1505, 1508, 1519, 1523, 1531, 1532, 1542, 1545, 1546, 1547, 1549, 1550, 1552, 1553, 1555, 1556, 1557, 1558, 1559, 1560, 1563, 1564, 1566, 1567, 1569, 1570, 1574, 1575, 1576, 1579, 1580, 1583, 1584, 1586, 1587, 1589, 1591, 1593, 1594, 1595, 1596, 1597, 1598, 1599, 1600, 1601, 1604, 1608, 1609, 1610, 1612, 1613, 1614, 1615, 1618, 1619, 1620, 1622, 1624, 1625, 1627, 1628, 1631, 1632, 1633, 1634, 1635, 1636, 1637, 1638, 1642, 1644, 1645, 1647, 1648, 1649, 1652, 1654, 1655, 1657, 1659, 1661, 1668, 1669, 1673, 1677, 1678, 1680, 1681, 1682, 1684, 1685, 1686, 1687, 1689, 1690, 1695, 1696, 1698, 1702, 1703, 1704, 1706, 1707, 1708, 1710, 1711, 1713, 1714, 1717, 1721, 1724, 1725, 1728, 1729, 1730, 1731, 1734, 1735, 1740, 1742, 1749, 1754, 1756, 1758, 1760, 1761, 1762, 1763, 1769, 1770, 1771, 1773, 1774, 1775, 1777, 1778, 1782, 1784, 1785, 1786, 1787, 1792, 1795, 1797, 1798, 1803, 1804, 1806, 1807, 1810, 1811, 1817, 1818, 1821, 1822, 1823, 1831, 1833, 1834, 1837, 1841, 1842, 1843, 1845, 1848, 1850, 1852, 1855, 1856, 1857, 1858, 1859, 1860, 1861, 1862, 1863, 1865, 1866, 1868, 1872, 1875, 1876, 1878, 1882, 1883, 1890, 1891, 1894, 1895, 1896, 1900, 1901, 1910, 1913, 1914, 1917, 1918, 1919, 1921, 1923, 1926, 1927, 1929, 1939, 1940, 1941, 1944, 1945, 1950, 1951, 1958, 1959, 1960, 1961, 1962, 1964, 1965, 1966, 1967, 1971, 1972, 1973, 1974, 1975, 1976, 1978, 1979, 1982, 1984, 1986, 1987, 1990, 1993, 1995, 1996, 1997, 1998, 1999, 2001, 2002, 2003, 2004, 2005, 2008, 2009, 2012, 2014, 2015, 2016, 2017, 2018, 2022, 2025, 2027, 2028, 2035, 2038, 2039, 2049, 2050, 2053, 2054, 2057, 2059, 2061, 2063, 2064, 2065, 2066, 2069, 2071, 2073, 2074, 2079, 2082, 2083, 2085, 2087, 2090, 2091, 2092, 2094, 2097, 2098, 2100, 2103, 2104, 2106, 2107, 2109, 2111, 2112, 2113, 2115, 2116, 2119, 2120, 2121, 2122, 2124, 2126, 2128, 2133, 2135, 2136, 2138, 2139, 2143, 2144, 2145, 2146, 2147, 2148, 2149, 2150, 2151, 2152, 2153, 2157, 2160, 2162, 2164, 2165, 2169, 2170, 2172, 2173, 2174, 2175, 2176, 2177, 2178, 2179, 2184, 2185, 2186, 2187, 2188, 2189, 2191, 2192, 2193, 2196, 2197, 2198, 2199, 2200, 2201, 2202, 2203, 2205, 2206, 2207, 2209, 2210, 2211, 2212, 2213, 2216, 2218, 2220, 2221, 2222, 2225, 2228, 2231, 2232, 2233, 2235, 2236, 2237, 2238, 2239, 2241, 2243, 2244, 2245, 2246, 2247, 2248, 2250, 2251, 2252, 2254, 2259, 2261, 2263, 2265, 2267, 2269, 2273, 2275, 2276, 2277, 2278, 2279, 2280, 2281, 2282, 2283, 2284, 2286, 2287, 2288, 2290, 2291, 2292, 2293, 2294, 2295, 2297, 2300, 2301, 2304, 2305, 2308, 2310, 2311, 2312, 2314, 2315, 2317, 2319, 2320, 2322, 2323, 2326, 2327, 2328, 2331, 2332, 2333, 2335, 2336, 2338, 2339, 2341, 2343, 2345, 2346, 2347, 2350, 2353, 2354, 2357, 2358, 2359, 2360, 2361, 2362, 2364, 2365, 2366, 2368, 2369, 2371, 2372, 2373, 2375, 2377, 2379, 2380, 2382, 2387, 2393, 2396, 2397, 2403, 2404, 2405, 2408, 2410, 2413, 2414, 2418, 2420, 2425, 2428, 2429, 2430, 2431, 2432, 2434, 2435, 2436, 2438, 2439, 2440, 2441, 2444, 2446, 2447, 2448, 2450, 2451, 2452, 2453, 2454, 2455, 2456, 2457, 2459, 2461, 2463, 2466, 2467, 2468, 2469, 2470, 2474, 2475, 2478, 2479, 2480, 2481, 2482, 2483, 2484, 2485, 2487, 2488, 2489, 2490, 2491, 2492, 2493, 2494, 2497, 2501, 2502, 2504, 2505, 2506, 2508, 2509, 2510, 2511, 2512, 2514, 2520, 2521, 2522, 2523, 2524, 2526, 2527, 2529, 2531, 2532, 2533, 2536, 2537, 2538, 2539, 2541, 2543, 2544, 2545, 2546, 2547, 2552, 2553, 2554, 2559, 2560, 2561, 2563, 2565, 2570, 2571, 2572, 2573, 2575, 2577, 2578, 2583, 2585, 2592, 2594, 2596, 2597, 2599, 2601, 2602, 2603, 2604, 2605, 2606, 2608, 2609, 2613, 2615, 2616, 2618, 2619, 2620, 2622, 2623, 2624, 2625, 2626, 2627, 2630, 2631, 2632, 2637, 2641, 2645, 2650, 2655, 2656, 2657, 2658, 2660, 2663, 2665, 2667, 2668, 2670, 2671, 2672, 2674, 2677, 2678, 2679, 2680, 2683, 2684, 2686, 2687, 2688, 2689, 2690, 2691, 2692, 2693, 2699, 2702, 2703, 2704, 2705, 2706, 2707, 2708, 2711, 2714, 2715, 2716, 2717, 2719, 2720, 2721, 2722, 2725, 2726, 2728, 2730, 2731, 2733, 2734, 2736, 2739, 2740, 2742, 2743, 2745, 2748, 2751, 2752, 2753, 2754, 2756, 2757, 2758, 2763, 2764, 2765, 2768, 2772, 2773, 2774, 2775, 2776, 2779, 2781, 2786, 2787, 2793, 2794, 2795, 2797, 2798, 2799, 2803, 2804, 2806, 2807, 2813, 2815, 2816, 2817, 2818, 2819, 2821, 2823, 2824, 2826, 2827, 2828, 2829, 2830, 2832, 2833, 2834, 2835, 2837, 2838, 2839, 2840, 2841, 2844, 2845, 2846, 2848, 2849, 2851, 2853, 2854, 2855, 2859, 2860, 2861, 2863, 2864, 2865, 2867, 2868, 2872, 2873, 2875, 2877, 2878, 2879, 2881, 2882, 2883, 2887, 2888, 2889, 2890, 2894, 2896, 2897, 2901, 2902, 2904, 2905, 2906, 2907, 2913, 2914, 2915, 2918, 2919, 2920, 2921, 2924, 2925, 2926, 2927, 2929, 2930, 2933, 2934, 2936, 2937, 2938, 2939, 2941, 2943, 2944, 2945, 2947, 2949, 2952, 2953, 2954, 2955, 2956, 2959, 2960, 2962, 2965, 2966, 2969, 2972, 2976, 2977, 2978, 2983, 2984, 2987, 2990, 2991, 2992, 2995, 2996, 2997, 2999, 3002, 3004, 3009, 3010, 3012, 3015, 3016, 3019, 3021, 3023, 3024, 3025, 3026, 3028, 3029, 3030, 3032, 3034, 3035, 3037, 3041, 3042, 3044, 3045, 3046, 3047, 3048, 3050, 3052, 3053, 3055, 3056, 3057, 3058, 3059, 3063, 3064, 3066, 3068, 3076, 3083, 3084, 3086, 3088, 3089, 3090, 3093, 3094, 3095, 3097, 3098, 3099, 3100, 3104, 3105, 3106, 3107, 3108, 3109, 3110, 3111, 3112, 3116, 3118, 3121, 3122, 3123, 3126, 3127, 3128, 3129, 3130, 3131, 3134, 3135, 3136, 3137, 3138, 3139, 3140, 3141, 3142, 3143, 3144, 3145, 3146, 3147, 3150, 3151, 3152, 3154, 3156, 3157, 3158, 3159, 3164, 3165, 3166, 3167, 3168, 3169, 3170, 3173, 3174, 3175, 3178, 3181, 3182, 3183, 3185, 3188, 3190, 3191, 3192, 3193, 3194, 3195, 3197, 3198, 3199, 3202, 3203, 3204, 3205, 3206, 3207, 3209, 3210, 3211, 3214, 3215, 3216, 3218, 3222, 3224, 3225, 3227, 3228, 3231, 3232, 3233, 3234, 3235, 3237, 3238, 3240, 3241, 3242, 3243, 3244, 3246, 3247, 3249, 3250, 3251, 3252, 3253, 3255, 3256, 3257, 3258, 3261, 3262, 3265, 3270, 3272, 3274, 3275, 3278, 3279, 3280, 3281, 3282, 3286, 3287, 3289, 3290, 3292, 3295, 3297, 3298, 3299, 3301, 3302, 3303, 3307, 3309, 3313, 3314, 3315, 3316, 3317, 3318, 3319, 3322, 3324, 3326, 3327, 3328, 3329, 3330, 3332, 3333, 3336, 3337, 3338, 3339, 3340, 3341, 3342, 3343, 3345, 3346, 3348, 3349, 3351, 3352, 3354, 3355, 3356, 3358, 3359, 3360, 3361, 3364, 3366, 3367, 3368, 3370, 3373, 3376, 3377, 3378, 3380, 3381, 3383, 3384, 3385, 3386, 3387, 3389, 3391, 3392, 3393, 3395, 3398, 3399, 3400, 3401, 3402, 3408, 3409, 3411, 3412, 3415, 3416, 3417, 3418, 3420, 3422, 3423, 3424, 3425, 3426, 3427, 3428, 3429, 3431, 3432, 3433, 3434, 3436, 3437, 3438, 3439, 3440, 3442, 3443, 3444, 3452, 3454, 3455, 3457, 3458, 3459, 3460, 3463, 3466, 3467, 3471, 3474, 3475, 3476, 3478, 3481, 3482, 3483, 3484, 3485, 3487, 3489, 3491, 3492, 3493, 3494, 3496, 3497, 3498, 3501, 3502, 3504, 3505, 3508, 3509, 3510, 3511, 3514, 3516, 3517, 3518, 3519, 3520, 3521, 3522, 3524, 3526, 3527, 3529, 3532, 3536, 3537, 3538, 3540, 3541, 3544, 3545, 3546, 3547, 3548, 3549, 3551, 3552, 3553, 3555, 3556, 3558, 3560, 3561, 3562, 3564, 3565, 3567, 3568, 3570, 3571, 3572, 3573, 3574, 3575, 3577, 3579, 3580, 3581, 3582, 3583, 3584, 3585, 3586, 3587, 3589, 3590, 3591, 3593, 3595, 3596, 3598, 3599, 3601, 3602, 3603, 3606, 3610, 3611, 3613, 3614, 3616, 3618, 3619, 3620, 3621, 3622, 3624, 3627, 3628, 3629, 3631, 3632, 3634, 3635, 3637, 3638, 3640, 3642, 3643, 3644, 3645, 3647, 3648, 3649, 3650, 3651, 3653, 3655, 3656, 3657, 3658, 3660, 3661, 3662, 3665, 3666, 3667, 3671, 3672, 3674, 3677, 3678, 3680, 3681, 3684, 3685, 3686, 3687, 3688, 3689, 3690, 3691, 3692, 3695, 3698, 3699, 3700, 3701, 3702, 3703, 3705, 3710, 3712, 3715, 3718, 3719, 3720, 3722, 3725, 3727, 3728, 3729, 3731, 3732, 3733, 3734, 3736, 3737, 3738, 3739, 3740, 3741, 3745, 3747, 3750, 3752, 3753, 3754, 3755, 3756, 3758, 3760, 3761, 3762, 3763, 3764, 3768, 3769, 3773, 3774, 3779, 3783, 3785, 3787, 3790, 3798, 3803, 3804, 3805, 3807, 3809, 3810, 3811, 3812, 3813, 3814, 3815, 3817, 3818, 3819, 3820, 3821, 3826, 3828, 3831, 3832, 3833, 3834, 3835, 3838, 3839, 3840, 3841, 3843, 3844, 3845, 3846, 3847, 3853, 3854, 3855, 3856, 3857, 3858, 3860, 3861, 3862, 3863, 3865, 3869, 3871, 3872, 3873, 3877, 3878, 3879, 3880, 3881, 3882, 3883, 3885, 3886, 3887, 3890, 3891, 3892, 3893, 3895, 3896, 3900, 3903, 3904, 3905, 3906, 3908, 3910, 3912, 3913, 3914, 3915, 3916, 3918, 3919, 3920, 3923, 3924, 3925, 3931, 3933, 3935, 3938, 3939, 3940, 3942, 3943, 3946, 3949, 3950, 3951, 3952, 3953, 3956, 3957, 3959, 3960, 3962, 3963, 3964, 3965, 3966, 3967, 3968, 3969, 3970, 3971, 3973, 3974, 3977, 3978, 3979, 3982, 3984, 3985, 3987, 3989, 3990, 3992, 3993, 3996, 3998, 3999, 4001, 4002, 4003, 4005, 4006, 4008, 4013, 4015, 4017, 4018, 4020, 4021, 4024, 4025, 4028, 4032, 4033, 4036, 4038, 4040, 4041, 4042, 4044, 4045, 4046, 4048, 4050, 4051, 4053, 4054, 4055, 4056, 4057, 4058, 4059, 4061, 4062, 4064, 4065, 4067, 4069, 4070, 4073, 4074, 4075, 4076, 4077, 4078, 4079, 4081, 4082, 4083, 4085, 4086, 4087, 4088, 4089, 4090, 4091, 4097, 4098, 4099, 4100, 4101, 4104, 4106, 4107, 4108, 4109, 4110, 4112, 4113, 4115, 4118, 4119, 4120, 4121, 4122, 4123, 4124, 4126, 4128, 4131, 4132, 4133, 4134, 4135, 4136, 4137, 4138, 4139, 4140, 4141, 4143, 4144, 4145, 4147, 4148, 4151, 4154, 4158, 4159, 4160, 4161, 4162, 4163, 4165, 4166, 4167, 4168, 4170, 4172, 4173, 4174, 4176, 4178, 4182, 4190, 4191, 4193, 4197, 4200, 4201, 4202, 4204, 4206, 4208, 4210, 4213, 4214, 4215, 4216, 4218, 4219, 4220, 4222, 4223, 4224, 4227, 4231, 4234, 4235, 4236, 4237, 4239, 4242, 4243, 4244, 4245, 4246, 4247, 4250, 4253, 4255, 4256, 4258, 4259, 4260, 4262, 4264, 4267, 4268, 4271, 4272, 4276, 4277, 4280, 4284, 4288, 4290, 4291, 4292, 4296, 4298, 4300, 4302, 4304, 4305, 4307, 4309, 4315, 4318, 4319, 4320, 4322, 4325, 4328, 4329, 4332, 4333, 4336, 4338, 4340, 4341, 4343, 4344, 4348, 4349, 4350, 4353, 4354, 4355, 4358, 4359, 4360, 4361, 4362, 4364, 4366, 4367, 4368, 4369, 4370, 4373, 4374, 4378, 4380, 4384, 4385, 4386, 4388, 4389, 4390, 4391, 4395, 4396, 4398, 4399, 4401, 4403, 4404, 4405, 4407, 4410, 4418, 4419, 4420, 4421, 4422, 4423, 4426, 4427, 4429, 4430, 4434, 4435, 4436, 4437, 4438, 4439, 4440, 4441, 4443, 4444, 4445, 4446, 4453, 4454, 4456, 4459, 4462, 4463, 4468, 4469, 4470, 4471, 4475, 4477, 4478, 4480, 4481, 4482, 4483, 4485, 4489, 4490, 4491, 4492, 4494, 4495, 4496, 4498, 4501, 4502, 4503, 4506, 4507, 4511, 4517, 4518, 4521, 4524, 4528, 4532, 4533, 4537, 4538, 4540, 4547, 4549, 4550, 4554, 4556, 4558, 4559, 4562, 4564, 4565, 4566, 4567, 4570, 4572, 4574, 4575, 4576, 4577, 4580, 4582, 4584, 4588, 4589, 4590, 4591, 4592, 4594, 4596, 4601, 4602, 4606, 4609, 4610, 4611, 4612, 4617, 4618, 4619, 4620, 4621, 4623, 4624, 4625, 4630, 4633, 4634, 4636, 4642, 4643, 4650, 4651, 4653, 4654, 4655, 4657, 4659, 4662, 4663, 4664, 4665, 4667, 4668, 4669, 4671, 4672, 4673, 4674, 4675, 4676, 4679, 4682, 4683, 4684, 4686, 4688, 4689, 4690, 4691, 4692, 4695, 4696, 4698, 4699, 4701, 4702, 4703, 4704, 4705, 4706, 4707, 4708, 4710, 4712, 4713, 4716, 4717, 4719, 4720, 4721, 4722, 4723, 4724, 4725, 4726, 4728, 4729, 4730, 4731, 4732, 4733, 4734, 4735, 4736, 4738, 4739, 4741, 4742, 4745, 4747, 4748, 4749, 4751, 4752, 4753, 4754, 4755, 4757, 4758, 4759, 4760, 4766, 4768, 4769, 4770, 4772, 4773, 4774, 4776, 4778, 4779, 4782, 4783, 4786, 4787, 4788, 4789, 4790, 4791, 4792, 4793, 4795, 4796, 4798, 4799, 4801, 4802, 4803, 4805, 4806, 4807, 4808, 4809, 4810, 4811, 4814, 4815, 4816, 4817, 4818, 4819, 4820, 4821, 4824, 4826, 4828, 4829, 4830, 4832, 4834, 4835, 4836, 4838, 4840, 4841, 4842, 4843, 4847, 4848, 4850, 4852, 4854, 4855, 4857, 4858, 4859, 4860, 4861, 4867, 4871, 4873, 4874, 4875, 4876, 4877, 4879, 4880, 4881, 4882, 4883, 4885, 4886, 4887, 4889, 4890, 4893, 4894, 4895, 4896, 4897, 4898, 4899, 4900, 4902, 4903, 4904, 4906, 4907, 4909, 4910, 4912, 4913, 4914, 4915, 4916, 4917, 4921, 4922, 4923, 4925, 4926, 4927, 4928, 4929, 4932, 4933, 4934, 4935, 4937, 4938, 4939, 4940, 4941, 4943, 4944, 4947, 4948, 4949, 4950, 4951, 4952, 4954, 4957, 4959, 4961, 4963, 4964, 4965, 4969, 4970, 4971, 4972, 4973, 4975, 4976, 4977, 4978, 4980, 4982, 4983, 4984, 4985, 4987, 4988, 4989, 4991, 4992, 4993, 4994, 4995, 4996, 5000, 5002, 5003, 5005, 5006, 5007, 5008, 5009, 5010, 5011, 5012, 5013, 5014, 5015, 5017, 5022, 5023, 5024, 5025, 5029, 5031, 5032, 5033, 5034, 5035, 5036, 5037, 5038, 5039, 5040, 5041, 5042, 5043, 5044, 5047, 5048, 5049, 5051, 5052, 5053, 5056, 5057, 5059, 5060, 5062, 5065, 5066, 5068, 5069, 5070, 5071, 5072, 5073, 5075, 5077, 5078, 5079, 5081, 5082, 5084, 5087, 5088, 5089, 5091, 5092, 5093, 5094, 5097, 5098, 5099, 5100, 5101, 5102, 5103, 5104, 5105, 5106, 5108, 5109, 5110, 5111, 5113, 5115, 5116, 5118, 5119, 5120, 5121, 5122, 5124, 5126, 5127, 5128, 5129, 5131, 5132, 5135, 5137, 5139, 5141, 5143, 5145, 5148, 5149, 5151, 5152, 5153, 5156, 5158, 5159, 5160, 5165, 5166, 5168, 5169, 5174, 5175, 5177, 5180, 5183, 5184, 5188, 5189, 5191, 5192, 5193, 5194, 5195, 5197, 5198, 5202, 5203, 5204, 5205, 5207, 5210, 5211, 5212, 5215, 5218, 5219, 5222, 5223, 5224, 5225, 5227, 5232, 5233, 5236, 5237, 5238, 5239, 5240, 5242, 5243, 5244, 5245, 5246, 5247, 5251, 5252, 5257, 5258, 5260, 5266, 5270, 5272, 5274, 5275, 5278, 5280, 5283, 5284, 5286, 5288, 5289, 5290, 5291, 5292, 5294, 5295, 5296, 5297, 5299, 5303, 5306, 5310, 5313, 5315, 5317, 5318, 5320, 5321, 5323, 5324, 5325, 5326, 5327, 5328, 5329, 5330, 5333, 5334, 5335, 5341, 5346, 5348, 5349, 5350, 5351, 5352, 5355, 5357, 5359, 5360, 5364, 5367, 5368, 5371, 5373, 5376, 5377, 5379, 5382, 5383, 5384, 5385, 5387, 5389, 5390, 5391, 5395, 5397, 5401, 5405, 5407, 5408, 5412, 5413, 5415, 5418, 5428, 5429, 5432, 5433, 5434, 5435, 5437, 5439, 5440, 5446, 5451, 5453, 5454, 5455, 5458, 5461, 5462, 5463, 5466, 5467, 5468, 5471, 5477, 5479, 5480, 5483, 5485, 5487, 5488, 5489, 5491, 5492, 5493, 5495, 5496, 5497, 5499, 5500, 5504, 5507, 5509, 5512, 5513, 5515, 5517, 5519, 5521, 5524, 5525, 5526, 5527, 5528, 5530, 5532, 5537, 5538, 5540, 5542, 5545, 5548, 5552, 5555, 5556, 5558, 5562, 5563, 5564, 5566, 5567, 5568, 5570, 5571, 5574, 5576, 5577, 5579, 5580, 5581, 5582, 5583, 5586, 5587, 5590, 5591, 5596, 5597, 5600, 5601, 5605, 5606, 5608, 5609, 5610, 5611, 5612, 5613, 5614, 5617, 5623, 5628, 5630, 5632, 5633, 5634, 5635, 5636, 5637, 5638, 5641, 5642, 5643, 5648, 5649, 5650, 5652, 5654, 5656, 5659, 5660, 5665, 5667, 5668, 5670, 5671, 5672, 5673, 5674, 5677, 5678, 5682, 5684, 5686, 5687, 5689, 5692, 5693, 5694, 5696, 5697, 5700, 5701, 5703, 5704, 5708, 5709, 5711, 5712, 5715, 5716, 5717, 5718, 5719, 5723, 5724, 5728, 5729, 5731, 5732, 5733, 5734, 5735, 5739, 5740, 5743, 5746, 5752, 5754, 5755, 5758, 5760, 5761, 5762, 5765, 5767, 5770, 5772, 5773, 5774, 5775, 5776, 5777, 5783, 5784, 5787, 5788, 5789, 5791, 5792, 5797, 5798, 5800, 5802, 5804, 5805, 5806, 5807, 5810, 5811, 5813, 5814, 5815, 5817, 5818, 5820, 5822, 5826, 5828, 5830, 5832, 5834, 5835, 5837, 5840, 5841, 5842, 5843, 5845, 5849, 5850, 5854, 5855, 5856, 5857, 5860, 5861, 5865, 5866, 5872, 5873, 5874, 5876, 5877, 5878, 5879, 5882, 5883, 5884, 5885, 5889, 5890, 5891, 5892, 5894, 5895, 5896, 5897, 5900, 5902, 5904, 5905, 5910, 5911, 5912, 5913, 5914, 5915, 5918, 5923, 5925, 5928, 5930, 5931, 5932, 5933, 5934, 5935, 5937, 5938, 5939, 5943, 5945, 5946, 5947, 5948, 5952, 5954, 5956, 5957, 5958, 5960, 5961, 5962, 5963, 5965, 5966, 5968, 5969, 5976, 5977, 5982, 5983, 5984, 5985, 5987, 5989, 5992, 5997, 5999, 6000, 6006, 6008, 6010, 6012, 6013, 6014, 6015, 6017, 6018, 6021, 6023, 6025, 6027, 6029, 6030, 6031, 6032, 6034, 6037, 6038, 6042, 6043, 6044, 6045, 6046, 6049, 6053, 6054, 6056, 6062, 6064, 6065, 6069, 6070, 6072, 6073, 6075, 6076, 6077, 6078, 6079, 6082, 6085, 6086, 6087, 6093, 6099, 6100, 6104, 6108, 6112, 6113, 6115, 6116, 6119, 6123, 6124, 6125, 6128, 6129, 6134, 6135, 6138, 6139, 6140, 6141, 6144, 6145, 6147, 6148, 6149, 6150, 6151, 6152, 6157, 6158, 6159, 6161, 6166, 6167, 6168, 6171, 6176, 6177, 6178, 6179, 6180, 6181, 6184, 6186, 6187, 6190, 6194, 6195, 6196, 6200, 6202, 6206, 6207, 6210, 6211, 6214, 6215, 6217, 6218, 6220, 6225, 6226, 6227, 6228, 6229, 6231, 6233, 6234, 6236, 6238, 6240, 6243, 6244, 6245, 6246, 6248, 6253, 6255, 6257, 6259, 6263, 6264, 6265, 6269, 6270, 6271, 6272, 6275, 6276, 6279, 6280, 6281, 6283, 6286, 6288, 6290, 6291, 6293, 6294, 6295, 6296, 6297, 6298, 6299, 6302, 6304, 6305, 6306, 6309, 6312, 6314, 6316, 6319, 6320, 6325, 6326, 6327, 6328, 6329, 6331, 6332, 6333, 6334, 6337, 6338, 6339, 6340, 6343, 6345, 6346, 6349, 6350, 6353, 6356, 6357, 6358, 6361, 6363, 6364, 6368, 6375, 6377, 6378, 6381, 6384, 6385, 6387, 6388, 6389, 6390, 6394, 6397, 6399, 6401, 6402, 6403, 6405, 6406, 6407, 6411, 6412, 6413, 6415, 6416, 6417, 6418, 6419, 6421, 6422, 6423, 6425, 6426, 6427, 6428, 6430, 6431, 6439, 6440, 6442, 6446, 6450, 6451, 6452, 6455, 6457, 6458, 6459, 6464, 6466, 6469, 6480, 6482, 6483, 6484, 6485, 6486, 6488, 6491, 6492, 6496, 6497, 6499, 6501, 6503, 6506, 6507, 6508, 6509, 6510, 6511, 6512, 6513, 6517, 6519, 6520, 6524, 6527, 6528, 6529, 6530, 6531, 6532, 6533, 6534, 6535, 6536, 6537, 6540, 6541, 6542, 6543, 6546, 6548, 6549, 6550, 6551, 6552, 6553, 6555, 6557, 6558, 6561, 6563, 6564, 6565, 6566, 6567, 6569, 6570, 6572, 6573, 6574, 6575, 6576, 6577, 6578, 6579, 6581, 6582, 6583, 6585, 6587, 6588, 6589, 6590, 6591, 6592, 6593, 6594, 6595, 6596, 6597, 6598, 6601, 6602, 6604, 6607, 6608, 6609, 6610, 6615, 6616, 6618, 6619, 6621, 6624, 6626, 6631, 6632, 6633, 6634, 6636, 6637, 6639, 6641, 6643, 6649, 6650, 6655, 6656, 6658, 6661, 6663, 6664, 6665, 6666, 6669, 6670, 6673, 6677, 6678, 6680, 6682, 6685, 6688, 6691, 6692, 6693, 6695, 6696, 6697, 6698, 6699, 6700, 6701, 6702, 6705, 6707, 6711, 6716, 6717, 6719, 6720, 6724, 6725, 6726, 6728, 6729, 6730, 6731, 6732, 6733, 6736, 6738, 6739, 6740, 6741, 6742, 6743, 6745, 6748, 6749, 6750, 6751, 6754, 6755, 6756, 6757, 6758, 6759, 6761, 6762, 6764, 6765, 6767, 6768, 6769, 6770, 6773, 6774, 6777, 6781, 6782, 6783, 6784, 6788, 6789, 6790, 6793, 6794, 6797, 6798, 6799, 6801, 6804, 6806, 6808, 6809, 6810, 6812, 6816, 6817, 6822, 6823, 6825, 6828, 6831, 6833, 6836, 6839, 6840, 6843, 6844, 6845, 6847, 6851, 6852, 6853, 6855, 6856, 6857, 6859, 6861, 6863, 6865, 6866, 6869, 6870, 6871, 6874, 6876, 6878, 6879, 6881, 6882, 6883, 6884, 6885, 6886, 6887, 6889, 6894, 6897, 6898, 6900, 6902, 6904, 6905, 6906, 6908, 6910, 6911, 6914, 6915, 6916, 6917, 6918, 6919, 6921, 6927, 6931, 6935, 6936, 6938, 6939, 6940, 6941, 6942, 6943, 6944, 6945, 6947, 6948, 6949, 6950, 6951, 6952, 6953, 6955, 6957, 6958, 6960, 6962, 6963, 6964, 6966, 6967, 6968, 6969, 6970, 6974, 6975, 6976, 6977, 6980, 6982, 6987, 6989, 6990, 6991, 6992, 6993, 6994, 6995, 6997, 6998, 7000, 7002, 7003, 7004, 7005, 7006, 7008, 7009, 7010, 7011, 7012, 7014, 7015, 7016, 7020, 7021, 7023, 7024, 7025, 7026, 7027, 7028, 7029, 7030, 7033, 7034, 7036, 7038, 7040, 7041, 7042, 7044, 7045, 7046, 7047, 7048, 7049, 7052, 7053, 7054, 7055, 7056, 7058, 7060, 7061, 7062, 7063, 7064, 7065, 7067, 7069, 7070, 7072, 7075, 7076, 7077, 7078, 7079, 7081, 7083, 7085, 7087, 7092, 7093, 7094, 7095, 7097, 7102, 7103, 7104, 7108, 7111, 7113, 7114, 7115, 7116, 7117, 7118, 7120, 7122, 7123, 7126, 7128, 7130, 7131, 7132, 7133, 7134, 7135, 7136, 7137, 7138, 7139, 7140, 7142, 7143, 7144, 7146, 7148, 7149, 7151, 7152, 7153, 7154, 7157, 7158, 7159, 7160, 7162, 7163, 7164, 7165, 7167, 7168, 7170, 7171, 7172, 7173, 7174, 7177, 7179, 7180, 7183, 7185, 7186, 7190, 7192, 7193, 7195, 7196, 7197, 7198, 7199, 7201, 7204, 7209, 7210, 7212, 7213, 7219, 7220, 7222, 7223, 7224, 7225, 7226, 7228, 7229, 7231, 7232, 7234, 7235, 7236, 7239, 7240, 7241, 7242, 7244, 7245, 7246, 7247, 7251, 7252, 7253, 7255, 7256, 7258, 7260, 7261, 7263, 7264, 7267, 7268, 7271, 7272, 7273, 7277, 7280, 7282, 7284, 7286, 7287, 7289, 7290, 7292, 7296, 7297, 7299, 7302, 7303, 7304, 7305, 7306, 7307, 7308, 7309, 7310, 7312, 7313, 7314, 7315, 7316, 7317, 7318, 7319, 7320, 7321, 7322, 7324, 7325, 7327, 7328, 7330, 7331, 7332, 7333, 7334, 7335, 7336, 7337, 7338, 7339, 7340, 7341, 7342, 7343, 7348, 7350, 7351, 7352, 7353, 7354, 7355, 7356, 7357, 7359, 7362, 7363, 7364, 7365, 7366, 7369, 7370, 7371, 7373, 7374, 7375, 7376, 7382, 7383, 7384, 7387, 7388, 7389, 7390, 7392, 7393, 7394, 7395, 7397, 7398, 7399, 7401, 7402, 7404, 7405, 7406, 7408, 7409, 7410, 7411, 7412, 7413, 7414, 7415, 7416, 7417, 7419, 7420, 7421, 7422, 7425, 7426, 7427, 7428, 7429, 7430, 7432, 7433, 7434, 7436, 7438, 7439, 7440, 7442, 7443, 7444, 7447, 7449, 7451, 7452, 7453, 7454, 7455, 7459, 7462, 7466, 7468, 7469, 7472, 7475, 7476, 7477, 7479, 7480, 7481, 7482, 7483, 7485, 7486, 7488, 7489, 7491, 7492, 7493, 7494, 7495, 7496, 7497, 7498, 7499, 7500, 7501, 7502, 7503, 7504, 7505, 7507, 7508, 7511, 7514, 7516, 7521, 7522, 7523, 7524, 7525, 7527, 7528, 7530, 7532, 7536, 7538, 7540, 7541, 7542, 7543, 7545, 7546, 7548, 7549, 7551, 7553, 7554, 7555, 7556, 7557, 7558, 7559, 7560, 7561, 7563, 7564, 7565, 7569, 7570, 7571, 7572, 7574, 7576, 7577, 7578, 7579, 7580, 7581, 7582, 7583, 7584, 7585, 7586, 7588, 7589, 7593, 7597, 7598, 7599, 7600, 7601, 7602, 7603, 7604, 7605, 7607, 7608, 7610, 7612, 7613, 7614, 7615, 7616, 7617, 7618, 7619, 7621, 7625, 7626, 7627, 7629, 7632, 7634, 7635, 7636, 7639, 7640, 7641, 7642, 7643, 7644, 7645, 7646, 7648, 7649, 7651, 7655, 7656, 7658, 7659, 7660, 7661, 7663, 7666, 7667, 7669, 7670, 7671, 7672, 7673, 7675, 7676, 7679, 7682, 7683, 7685, 7686, 7687, 7688, 7689, 7691, 7692, 7694, 7695, 7697, 7699, 7701, 7704, 7706, 7709, 7710, 7711, 7713, 7716, 7717, 7718, 7719, 7723, 7726, 7727, 7730, 7731, 7733, 7736, 7737, 7739, 7740, 7741, 7742, 7743, 7745, 7746, 7749, 7750, 7752, 7753, 7755, 7756, 7759, 7760, 7762, 7764, 7766, 7767, 7770, 7771, 7772, 7773, 7774, 7776, 7778, 7779, 7780, 7781, 7782, 7785, 7786, 7789, 7790, 7791, 7792, 7793, 7794, 7795, 7796, 7797, 7800, 7802, 7804, 7805, 7806, 7807, 7808, 7810, 7811, 7813, 7815, 7817, 7821, 7822, 7825, 7827, 7828, 7829, 7830, 7832, 7833, 7835, 7836, 7837, 7840, 7842, 7843, 7844, 7846, 7849, 7850, 7851, 7854, 7855, 7856, 7857, 7859, 7860, 7862, 7863, 7865, 7866, 7868, 7869, 7872, 7873, 7877, 7878, 7882, 7883, 7884, 7885, 7887, 7891, 7894, 7895, 7896, 7897, 7900, 7903, 7904, 7905, 7906, 7907, 7909, 7910, 7917, 7918, 7921, 7924, 7927, 7932, 7933, 7934, 7937, 7939, 7940, 7941, 7944, 7952, 7954, 7956, 7958, 7961, 7962, 7966, 7968, 7970, 7972, 7973, 7977, 7978, 7980, 7982, 7985, 7987, 7988, 7990, 7991, 7993, 7994, 8000, 8003, 8004, 8006, 8009, 8011, 8019, 8020, 8022, 8031, 8033, 8035, 8036, 8037, 8039, 8041, 8042, 8048, 8051, 8053, 8055, 8056, 8061, 8062, 8063, 8064, 8067, 8068, 8069, 8070, 8076, 8078, 8080, 8081, 8084, 8085, 8086, 8090, 8091, 8094, 8099, 8103, 8106, 8107, 8108, 8111, 8112, 8113, 8114, 8115, 8117, 8118, 8124, 8127, 8131, 8132, 8134, 8137, 8139, 8142, 8147, 8152, 8156, 8158, 8164, 8172, 8177, 8184, 8185, 8195, 8196, 8198, 8201, 8211, 8219, 8220, 8221, 8225, 8227, 8228, 8229, 8231, 8232, 8235, 8237, 8239, 8245, 8250, 8251, 8253, 8254, 8256, 8261, 8263, 8273, 8276, 8290, 8292, 8294, 8295, 8300, 8303, 8304, 8306, 8309, 8310, 8311, 8316, 8317, 8318, 8321, 8325, 8327, 8329, 8333, 8341, 8342, 8347, 8349, 8352, 8354, 8358, 8362, 8363, 8365, 8367, 8375, 8380, 8381, 8382, 8383, 8388, 8393, 8395, 8396, 8398, 8403, 8414, 8415, 8416, 8418, 8422, 8423, 8428, 8431, 8432, 8433, 8435, 8437, 8439, 8442, 8444, 8446, 8449, 8451, 8452, 8454, 8461, 8464, 8466, 8467, 8468, 8470, 8471, 8473, 8474, 8476, 8480, 8482, 8485, 8486, 8497, 8498, 8499, 8501, 8506, 8514, 8521, 8522, 8524, 8525, 8529, 8530, 8531, 8535, 8536, 8543, 8546, 8549, 8552, 8553, 8554, 8556, 8559, 8561, 8562, 8563, 8565, 8566, 8568, 8570, 8571, 8573, 8574, 8577, 8580, 8585, 8587, 8593, 8595, 8598, 8599, 8602, 8605, 8608, 8610, 8615, 8616, 8617, 8619, 8622, 8628, 8630, 8638, 8640, 8642, 8643, 8644, 8656, 8662, 8663, 8669, 8670, 8671, 8677, 8679, 8680, 8681, 8685, 8687, 8691, 8693, 8699, 8704, 8712, 8717, 8722, 8724, 8726, 8728, 8731, 8732, 8737, 8738, 8739, 8746, 8747, 8748, 8749, 8750, 8751, 8752, 8756, 8759, 8760, 8761, 8763, 8767, 8768, 8770, 8771, 8781, 8786, 8792, 8801, 8802, 8804, 8805, 8806, 8807, 8809, 8810, 8812, 8815, 8819, 8820, 8822, 8828, 8833, 8837, 8838, 8844, 8848, 8851, 8852, 8854, 8856, 8857, 8858, 8862, 8863, 8864, 8867, 8869, 8870, 8871, 8873, 8881, 8885, 8886, 8893, 8894, 8895, 8896, 8899, 8900, 8902, 8904, 8915, 8919, 8920, 8921, 8922, 8925, 8929, 8931, 8933, 8935, 8936, 8938, 8939, 8940, 8941, 8942, 8949, 8952, 8954, 8955, 8960, 8961, 8975, 8976, 8978, 8980, 8985, 8992, 8995, 8997, 9003, 9006, 9016, 9017, 9020, 9021, 9023, 9026, 9031, 9033, 9040, 9049, 9053, 9059, 9061, 9064, 9066, 9068, 9073, 9077, 9084, 9087, 9089, 9090, 9097, 9099, 9101, 9102, 9105, 9111, 9112, 9116, 9117, 9122, 9125, 9127, 9132, 9133, 9137, 9138, 9139, 9141, 9142, 9144, 9145, 9149, 9157, 9159, 9160, 9161, 9169, 9170, 9171, 9172, 9173, 9175, 9179, 9180, 9184, 9186, 9201, 9203, 9206, 9210, 9212, 9213, 9216, 9218, 9220, 9221, 9222, 9229, 9232, 9233, 9241, 9244, 9246, 9248, 9250, 9251, 9257, 9259, 9260, 9264, 9265, 9267, 9269, 9271, 9272, 9274, 9278, 9279, 9280, 9281, 9283, 9285, 9290, 9293, 9294, 9295, 9300, 9302, 9304, 9306, 9312, 9316, 9317, 9318, 9321, 9323, 9324, 9326, 9327, 9337, 9341, 9345, 9349, 9358, 9359, 9362, 9366, 9367, 9371, 9373, 9378, 9384, 9393, 9397, 9399, 9401, 9402, 9410, 9418, 9421, 9424, 9427, 9428, 9429, 9432, 9434, 9437, 9440, 9442, 9443, 9445, 9446, 9453, 9454, 9456, 9457, 9458, 9459, 9460, 9464, 9467, 9469, 9471, 9475, 9478, 9482, 9484, 9485, 9486, 9489, 9491, 9493, 9496, 9498, 9500, 9501, 9505, 9515, 9517, 9518, 9522, 9525, 9528, 9534, 9535, 9536, 9547, 9552, 9554, 9555, 9567, 9568, 9570, 9571, 9574, 9575, 9578, 9579, 9589, 9590, 9592, 9599, 9601, 9610, 9612, 9614, 9619, 9620, 9622, 9626, 9628, 9629, 9634, 9639, 9640, 9647, 9650, 9653, 9654, 9655, 9666, 9667, 9669, 9672, 9673, 9675, 9677, 9678, 9682, 9684, 9686, 9687, 9692, 9693, 9695, 9702, 9704, 9713, 9714, 9716, 9717, 9720, 9724, 9729, 9730, 9731, 9732, 9744, 9745, 9747, 9749, 9753, 9754, 9759, 9763, 9765, 9768, 9769, 9770, 9773, 9777, 9778, 9785, 9786, 9789, 9790, 9791, 9796, 9797, 9798, 9799, 9800, 9801, 9805, 9806, 9815, 9816, 9830, 9832, 9836, 9838, 9840, 9841, 9852, 9853, 9859, 9862, 9864, 9865, 9874, 9876, 9884, 9885, 9886, 9887, 9888, 9889, 9890, 9893, 9896, 9901, 9903, 9908, 9911, 9914, 9921, 9923, 9931, 9933, 9946, 9949, 9953, 9955, 9956, 9957, 9958, 9962, 9964, 9965, 9971, 9973, 9978, 9981, 9984, 9985, 9990, 9995, 9996, 9997, 9999, 10002, 10003, 10005, 10007, 10009, 10010, 10011, 10018, 10020, 10021, 10023, 10028, 10030, 10031, 10036, 10037, 10038, 10040, 10041, 10045, 10047, 10049, 10050, 10051, 10056, 10059, 10060, 10065, 10070, 10076, 10078, 10080, 10083, 10085, 10086, 10088, 10089, 10092, 10094, 10101, 10102, 10103, 10108, 10110, 10111, 10115, 10118, 10119, 10120, 10124, 10125, 10131, 10133, 10134, 10135, 10140, 10142, 10144, 10146, 10148, 10150, 10153, 10160, 10161, 10166, 10168, 10169, 10173, 10177, 10181, 10182, 10186, 10187, 10190, 10191, 10194, 10195, 10198, 10203, 10204, 10209, 10211, 10212, 10214, 10215, 10217, 10218, 10223, 10224, 10225, 10226, 10227, 10231, 10234, 10238, 10240, 10244, 10248, 10250, 10254, 10256, 10258, 10260, 10261, 10264, 10268, 10278, 10279, 10294, 10297, 10302, 10304, 10307, 10310, 10311, 10327, 10330, 10331, 10333, 10335, 10337, 10338, 10346, 10350, 10353, 10354, 10362, 10365, 10369, 10370, 10373, 10376, 10378, 10380, 10381, 10383, 10385, 10387, 10388, 10390, 10392, 10395, 10399, 10401, 10406, 10407, 10408, 10409, 10411, 10412, 10416, 10417, 10421, 10422, 10423, 10425, 10426, 10428, 10430, 10431, 10432, 10435, 10436, 10438, 10439, 10440, 10441, 10442, 10443, 10449, 10456, 10457, 10463, 10464, 10465, 10467, 10471, 10473, 10474, 10479, 10481, 10483, 10485, 10487, 10488, 10491, 10492, 10493, 10495, 10499, 10500, 10509, 10511, 10513, 10518, 10521, 10523, 10525, 10527, 10540, 10541, 10548, 10552, 10553, 10554, 10555, 10556, 10557, 10560, 10565, 10573, 10574, 10579, 10580, 10582, 10586, 10588, 10589, 10591, 10592, 10593, 10595, 10598, 10599, 10600, 10602, 10604, 10609, 10611, 10613, 10618, 10621, 10622, 10623, 10624, 10626, 10629, 10631, 10634, 10636, 10643, 10646, 10648, 10649, 10650, 10652, 10654, 10656, 10657, 10662, 10664, 10665, 10666, 10672, 10678, 10679, 10682, 10689, 10693, 10694, 10698, 10703, 10704, 10705, 10711, 10712, 10715, 10718, 10733, 10735, 10736, 10739, 10749, 10750, 10756, 10757, 10759, 10760, 10761, 10764, 10765, 10766, 10767, 10770, 10773, 10776, 10780, 10783, 10789, 10790, 10793, 10794, 10795, 10798, 10800, 10801, 10802, 10803, 10807, 10810, 10814, 10816, 10817, 10818, 10825, 10826, 10828, 10831, 10839, 10842, 10843, 10846, 10853, 10857, 10858, 10862, 10868, 10872, 10873, 10876, 10878, 10879, 10880, 10883, 10887, 10893, 10897, 10899, 10901, 10902, 10904, 10906, 10908, 10913, 10916, 10922, 10925, 10930, 10936, 10937, 10946, 10948, 10956, 10961, 10962, 10965, 10967, 10970, 10972, 10976, 10978, 10980, 10987, 10989, 10993, 10996, 11000, 11002, 11005, 11008, 11011, 11012, 11013, 11017, 11019, 11020, 11021, 11024, 11025, 11031, 11033, 11040, 11041, 11042, 11043, 11044, 11045, 11046, 11047, 11049, 11052, 11053, 11056, 11057, 11058, 11059, 11062, 11067, 11070, 11077, 11080, 11089, 11090, 11092, 11096, 11097, 11099, 11104])\n"
     ]
    }
   ],
   "source": [
    "print(qrels_dict.keys())"
   ]
  },
  {
   "cell_type": "code",
   "execution_count": 40,
   "metadata": {},
   "outputs": [
    {
     "name": "stdout",
     "output_type": "stream",
     "text": [
      "[Original Question] Income tax on my online drop-shipping business (India)\n",
      "[Query 0][Weight : 1.0] Income tax for eCommerce and drop-shipping businesses in India\n",
      "[Query 1][Weight : 0.9] Taxation rules for online drop-shipping in India\n",
      "[Query 2][Weight : 0.8] How are eCommerce and drop-shipping profits taxed in India\n",
      "\n",
      "[Retrieved Passages]\n",
      "<Passage 0> There are no clear guidelines. If you are selling as individual, then what ever profit you make gets added to your overall income as you pay tax accordingly. This is true for sole proprietor or partnership kind of firms. If you are registered as a Company, the profits are taxed as business income. There may be VAT and other taxes. Please consult a CA who can guide you in specifics as for eCommerce, there is no defined law and one has to interpret various other tax laws.\n",
      "<Passage 1> Tax Deducted at source is applicable to Employee / Employer [contract employee] relations ... it was also made applicable for cases where an Indian company pays for software products [like MS Word etc] as the product is not sold, but is licensed and is treated as Royalty [unlike sale of a consumer product, that you have, say car] ... Hence it depends on how your contract is worded with your India clients, best is have it as a service agreement. Although services are also taxed, however your contract should clearly specify that any tax in India would be borne by your Indian Client ... Cross Country taxation is an advanced area, you will not find good advice free :)\n",
      "<Passage 2> Tax is due in India as you offered services from India.  So whether the International Client pays via Credit Card, Bank Transfer, Paypal or any other means is not relevant. Even if the International Client pays you in a account outside India; it is still taxable in India.\n",
      "<Passage 3> I am an Israeli based citizen who represents and Indian company who sells its products in Israel. As an agent I am entitled to commission on sales on behalf the Indian company who advised that. Any commission paid to you will be applicable to TDS at 20.9% of the commission amount, the tax will be paid and a Tax paid certificate will be given to you.   According to a Bilateral Double tax avoidance treaty if the tax has been deducted in India you will get credit for this tax in Israel.\n",
      "<Passage 4> Every month I will get a return in from my share of the profit which would be used for repayment of capital and interest in India. Not to sure what the business plan is. Please factor all the modalities, Exchange rate fluctuations, etc. My concern is regarding RBI rules and regulations, FEMA guidelines, and Income tax. Under the Liberalized Remittance Scheme; Funds can be transferred outside India. Any profit you make will be taxable in India. You will have to declare this pay tax in as per schedule.\n"
     ]
    }
   ],
   "source": [
    "idx = 70\n",
    "id = dataset[idx]['_id']\n",
    "text = dataset[idx]['text']\n",
    "\n",
    "print('[Original Question]',text)\n",
    "# text = 'Taxation rules for online drop-shipping business in India and income tax requirements'\n",
    "tnw = [(text,1.0)]\n",
    "tnw = [(\"Income tax for eCommerce and drop-shipping businesses in India\", 1.0), (\"Taxation rules for online drop-shipping in India\", 0.9), (\"How are eCommerce and drop-shipping profits taxed in India\", 0.8)]\n",
    "for i, t in enumerate(tnw):\n",
    "    print(f'[Query {i}][Weight : {t[1]}]',t[0])\n",
    "print()\n",
    "rss = {}\n",
    "for t in tnw:\n",
    "    inputs = tokenizer(t[0], return_tensors=\"pt\", padding=True, truncation=True).to('cuda')\n",
    "    outputs = model(**inputs)\n",
    "    embeddings = mean_pooling(outputs.last_hidden_state, inputs['attention_mask'])\n",
    "    rs = search(embeddings.detach().to('cpu'),id,index.ntotal)\n",
    "    for a in rs:\n",
    "        rss[a[0]]=rss.get(a[0],[])\n",
    "        rss[a[0]].append((a[3],a[2],a[1]))\n",
    "rss2 = {}\n",
    "\n",
    "for k,v in rss.items():\n",
    "    rss2[k]=0\n",
    "    for i in range(len(v)):\n",
    "        # print(v[i])\n",
    "        rss2[k]+=v[i][0]*tnw[i][1]\n",
    "\n",
    "sorted_keys = sorted(rss2.keys(), key=lambda k: -rss2[k])\n",
    "\n",
    "print('[Retrieved Passages]')\n",
    "for i, t in enumerate(sorted_keys[:5]):\n",
    "    print(f'<Passage {i}> '+rss[t][0][1])"
   ]
  },
  {
   "cell_type": "code",
   "execution_count": 103,
   "metadata": {},
   "outputs": [
    {
     "name": "stdout",
     "output_type": "stream",
     "text": [
      "[Original Question] Income tax on my online drop-shipping business (India)\n",
      "[Query] Income tax implications for running a drop-shipping business in India\n",
      "\n",
      "<Passage 0> This is a complicated question that relies on the US-India Tax Treaty to determine whether the income is taxable to the US or to India.  The relevant provision is likely Article 15 on Personal Services. http://www.irs.gov/pub/irs-trty/india.pdf It seems plausible that your business is personal services, but that's a fact-driven question based on your business model.  If the online training is 'personal services' provided by you from India, then it is likely foreign source income under the treaty.  The 'fixed base' and '90 days' provisions in Article 15 would not apply to an India resident working solely outside the US. The question is whether your US LLC was a US taxpayer.  If the LLC was a taxpayer, then it has an obligation to pay US tax on any worldwide income and it also arguably disqualifies you from Article 15 (which applies to individuals and firms of individuals, but not companies).  If you were the sole owner of the US LLC, and you did not make a Form 8832 election to be treated as subject to entity taxation, then the LLC was a disregarded entity.  If you had other owners, and did not make an election, then you are a partnership and I suspect but cannot conclude that the treaty analysis is still valid. So this is fact-dependent, but you may be exempt from US tax under the tax treaty.  However, you may have still had an obligation to file Forms 1099 for your worker.  You can also late-file Forms 1099 reporting the nonemployee compensation paid to your worker.  Note that this may have tax consequences on the worker if the worker failed to report the income in those years.\n",
      "<Passage 1> Do I pay tax to the US and then also pay it in India for my income, or   does my American partner, who holds 15% of the monthly income, pay tax   in the US for his income? Of course you do, what kind of question is this? You have income earned in the US by a US entity, and the entity is taxed. Since LLC is a disregarded entity - the tax shifts to you personally. You should file form 1040NR. You should also talk to a tax professional who's proficient in the Indo-US tax treaty, since it may affect your situation.\n",
      "<Passage 2> From you question I understand that you are not an Indian citizen, are staying in India, and transferring your funds for your living / expenses in India. There is no limit on such transfers and the amount is not taxed.   The tax comes into picture if you are treated as a resident in India from a tax perspective. Even then the tax is not because you have transferred the funds into India, but the policy of taxing global income. The article at http://www.pwc.in/en_IN/in/assets/pdfs/foreign-nationals-working-in-india.pdf should give you more inputs.\n",
      "<Passage 3> Under Income Tax Act, tax liability depends on residency as defined under section 6 of the Income Tax Act, and not on citizenship. If you are resident in India, then your global income is taxable. As it appears from your question, you are not resident of India (182 days stay in India in a FY), as such you will have absolutely no tax liability for whatever income you earn outside India.\n",
      "<Passage 4> The key factors here are  You will need to pay tax in the UK only if you live more than 183 days - that too in a tax year. Indian tax system will also classify you as a NR (Non-resident) if you live outside for more than 182 days in a tax year.  In your case, your income will be in India and will stay in India. So there should not be any UK tax until you try and get that money to the UK. I will not go into outlining what if you want to go down that road since it does not apply. As for tax in India, You will need to pay tax since the source of income is Indian.  Hope this helps.\n"
     ]
    }
   ],
   "source": [
    "idx = 70\n",
    "id = dataset[idx]['_id']\n",
    "text = dataset[idx]['text']\n",
    "\n",
    "print('[Original Question]',text)\n",
    "text = 'Income tax implications for running a drop-shipping business in India'\n",
    "print('[Query]',text)\n",
    "print()\n",
    "inputs = tokenizer(text, return_tensors=\"pt\", padding=True, truncation=True).to('cuda')\n",
    "outputs = model(**inputs)\n",
    "embeddings = mean_pooling(outputs.last_hidden_state, inputs['attention_mask'])\n",
    "rs = search(embeddings.detach().to('cpu'),id,5)\n",
    "for i, t in enumerate(rs):\n",
    "    print(f'<Passage {i}> '+t[1])\n"
   ]
  },
  {
   "cell_type": "code",
   "execution_count": 23,
   "metadata": {},
   "outputs": [
    {
     "name": "stdout",
     "output_type": "stream",
     "text": [
      "57638\n"
     ]
    }
   ],
   "source": [
    "print(index.ntotal)"
   ]
  },
  {
   "cell_type": "code",
   "execution_count": 44,
   "metadata": {},
   "outputs": [
    {
     "name": "stdout",
     "output_type": "stream",
     "text": [
      "2681468\n"
     ]
    }
   ],
   "source": [
    "print(len(dataset_corpus))"
   ]
  },
  {
   "cell_type": "code",
   "execution_count": 11,
   "metadata": {},
   "outputs": [],
   "source": [
    "del index"
   ]
  }
 ],
 "metadata": {
  "kernelspec": {
   "display_name": "torch_241",
   "language": "python",
   "name": "python3"
  },
  "language_info": {
   "codemirror_mode": {
    "name": "ipython",
    "version": 3
   },
   "file_extension": ".py",
   "mimetype": "text/x-python",
   "name": "python",
   "nbconvert_exporter": "python",
   "pygments_lexer": "ipython3",
   "version": "3.9.19"
  }
 },
 "nbformat": 4,
 "nbformat_minor": 2
}
