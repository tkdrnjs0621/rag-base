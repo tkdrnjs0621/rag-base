{
 "cells": [
  {
   "cell_type": "code",
   "execution_count": 1,
   "metadata": {},
   "outputs": [],
   "source": [
    "from transformers import AutoModelForCausalLM, AutoTokenizer\n",
    "import torch\n",
    "import argparse\n",
    "import re\n",
    "import time\n",
    "from datetime import timedelta\n",
    "from functools import partial\n",
    "import logging\n",
    "from datasets import load_dataset, Dataset\n",
    "from tqdm import tqdm\n",
    "import os\n",
    "from torch.utils.data import DataLoader\n",
    "\n",
    "from src.retriever import Retriever\n",
    "from types import SimpleNamespace"
   ]
  },
  {
   "cell_type": "code",
   "execution_count": 2,
   "metadata": {},
   "outputs": [],
   "source": [
    "os.environ['CUDA_VISIBLE_DEVICES']='0'"
   ]
  },
  {
   "cell_type": "code",
   "execution_count": 3,
   "metadata": {},
   "outputs": [
    {
     "name": "stdout",
     "output_type": "stream",
     "text": [
      "Loading model from: facebook/contriever-msmarco\n"
     ]
    },
    {
     "name": "stderr",
     "output_type": "stream",
     "text": [
      "/home/tkdrnjs0621/miniconda3/envs/torch_241/lib/python3.9/site-packages/transformers/tokenization_utils_base.py:1601: FutureWarning: `clean_up_tokenization_spaces` was not set. It will be set to `True` by default. This behavior will be depracted in transformers v4.45, and will be then set to `False` by default. For more details check this issue: https://github.com/huggingface/transformers/issues/31884\n",
      "  warnings.warn(\n"
     ]
    },
    {
     "name": "stdout",
     "output_type": "stream",
     "text": [
      "Indexing passages from files ['data/corpus/wikipedia_embeddings/passages_00', 'data/corpus/wikipedia_embeddings/passages_01', 'data/corpus/wikipedia_embeddings/passages_02', 'data/corpus/wikipedia_embeddings/passages_03', 'data/corpus/wikipedia_embeddings/passages_04', 'data/corpus/wikipedia_embeddings/passages_05', 'data/corpus/wikipedia_embeddings/passages_06', 'data/corpus/wikipedia_embeddings/passages_07', 'data/corpus/wikipedia_embeddings/passages_08', 'data/corpus/wikipedia_embeddings/passages_09', 'data/corpus/wikipedia_embeddings/passages_10', 'data/corpus/wikipedia_embeddings/passages_11', 'data/corpus/wikipedia_embeddings/passages_12', 'data/corpus/wikipedia_embeddings/passages_13', 'data/corpus/wikipedia_embeddings/passages_14', 'data/corpus/wikipedia_embeddings/passages_15']\n",
      "Loading file data/corpus/wikipedia_embeddings/passages_00\n",
      "Total data indexed 1000000\n",
      "Loading file data/corpus/wikipedia_embeddings/passages_01\n",
      "Total data indexed 2000000\n",
      "Loading file data/corpus/wikipedia_embeddings/passages_02\n",
      "Total data indexed 3000000\n",
      "Loading file data/corpus/wikipedia_embeddings/passages_03\n",
      "Total data indexed 4000000\n",
      "Total data indexed 5000000\n",
      "Loading file data/corpus/wikipedia_embeddings/passages_04\n",
      "Total data indexed 6000000\n",
      "Loading file data/corpus/wikipedia_embeddings/passages_05\n",
      "Total data indexed 7000000\n",
      "Loading file data/corpus/wikipedia_embeddings/passages_06\n",
      "Total data indexed 8000000\n",
      "Total data indexed 9000000\n",
      "Loading file data/corpus/wikipedia_embeddings/passages_07\n",
      "Total data indexed 10000000\n",
      "Loading file data/corpus/wikipedia_embeddings/passages_08\n",
      "Total data indexed 11000000\n",
      "Loading file data/corpus/wikipedia_embeddings/passages_09\n",
      "Total data indexed 12000000\n",
      "Total data indexed 13000000\n",
      "Loading file data/corpus/wikipedia_embeddings/passages_10\n",
      "Total data indexed 14000000\n",
      "Loading file data/corpus/wikipedia_embeddings/passages_11\n",
      "Total data indexed 15000000\n",
      "Loading file data/corpus/wikipedia_embeddings/passages_12\n",
      "Total data indexed 16000000\n",
      "Total data indexed 17000000\n",
      "Loading file data/corpus/wikipedia_embeddings/passages_13\n",
      "Total data indexed 18000000\n",
      "Loading file data/corpus/wikipedia_embeddings/passages_14\n",
      "Total data indexed 19000000\n",
      "Loading file data/corpus/wikipedia_embeddings/passages_15\n",
      "Total data indexed 20000000\n",
      "Total data indexed 21000000\n",
      "Total data indexed 21015324\n",
      "Data indexing completed.\n",
      "Indexing time: 217.9 s.\n",
      "loading passages\n",
      "passages have been loaded\n"
     ]
    }
   ],
   "source": [
    "\n",
    "arg = SimpleNamespace()\n",
    "arg.retrieval_model_name_or_path=\"facebook/contriever-msmarco\"\n",
    "arg.retrieval_embedding_size=768\n",
    "arg.passages='data/corpus/psgs_w100.tsv'\n",
    "arg.passages_embeddings='data/corpus/wikipedia_embeddings/*'\n",
    "arg.indexing_batch_size=1000000\n",
    "arg.save_or_load_index = False\n",
    "arg.retrieval_n_subquantizers=0\n",
    "arg.retrieval_n_bits=8\n",
    "arg.max_k=100\n",
    "arg.lowercase = False\n",
    "arg.normalize_text = False\n",
    "arg.per_gpu_batch_size=1000000\n",
    "arg.question_maxlength=100000\n",
    "\n",
    "retriever = Retriever(arg)\n",
    "retriever.setup_retriever()"
   ]
  },
  {
   "cell_type": "code",
   "execution_count": 9,
   "metadata": {},
   "outputs": [],
   "source": []
  },
  {
   "cell_type": "code",
   "execution_count": 4,
   "metadata": {},
   "outputs": [],
   "source": [
    "#retriever.reset_args(arg)"
   ]
  },
  {
   "cell_type": "code",
   "execution_count": 5,
   "metadata": {},
   "outputs": [],
   "source": [
    "from datasets import Dataset\n",
    "dataset = Dataset.from_json(\"data/eval_data/triviaqa_test.jsonl\")"
   ]
  },
  {
   "cell_type": "code",
   "execution_count": 8,
   "metadata": {},
   "outputs": [
    {
     "name": "stdout",
     "output_type": "stream",
     "text": [
      "Who was the man behind The Chipmunks?\n",
      "['David Seville', 'david seville']\n",
      "Questions embeddings shape: torch.Size([1, 768])\n"
     ]
    },
    {
     "name": "stderr",
     "output_type": "stream",
     "text": [
      "  0%|          | 0/1 [00:00<?, ?it/s]"
     ]
    },
    {
     "name": "stderr",
     "output_type": "stream",
     "text": [
      "100%|██████████| 1/1 [00:08<00:00,  8.91s/it]\n"
     ]
    },
    {
     "name": "stdout",
     "output_type": "stream",
     "text": [
      "Search time: 8.9 s.\n",
      "Questions embeddings shape: torch.Size([2, 768])\n"
     ]
    },
    {
     "name": "stderr",
     "output_type": "stream",
     "text": [
      "100%|██████████| 1/1 [00:09<00:00,  9.89s/it]\n"
     ]
    },
    {
     "name": "stdout",
     "output_type": "stream",
     "text": [
      "Search time: 9.9 s.\n",
      "Questions embeddings shape: torch.Size([3, 768])\n"
     ]
    },
    {
     "name": "stderr",
     "output_type": "stream",
     "text": [
      "100%|██████████| 1/1 [00:09<00:00,  9.93s/it]\n"
     ]
    },
    {
     "name": "stdout",
     "output_type": "stream",
     "text": [
      "Search time: 9.9 s.\n",
      "Questions embeddings shape: torch.Size([100, 768])\n"
     ]
    },
    {
     "name": "stderr",
     "output_type": "stream",
     "text": [
      "100%|██████████| 1/1 [00:04<00:00,  4.88s/it]"
     ]
    },
    {
     "name": "stdout",
     "output_type": "stream",
     "text": [
      "Search time: 4.9 s.\n",
      "[{'id': '8146388', 'title': 'A10 autoroute', 'text': \"A10 is part of the E-road E05; it is also part of the E50 north of the A11 split near Chartres and the E60 between exit 14 at Orléans and exit 19 at Tours. Most of the A10 is a toll road, but it is free north of the N104, near Paris, between exits 20 and 22 in Tours, and south of the N10 (exit 39), near Bordeaux. Exits are numbered from north to south. A10 autoroute The A10, also called L'Aquitaine, is an Autoroute in France, running for 549 km (341 mi) from the A6 south of Paris to\"}, {'id': '3564749', 'title': 'HMS A10', 'text': 'HMS A10 HMS \"A10\" was an submarine built for the Royal Navy in the first decade of the 20th century. After surviving World War I, she was sold for scrap in 1919. \"A10\" was a member of the first British class of submarines, although slightly larger, faster and more heavily armed than the lead ship, . The submarine had a length of overall, a beam of and a mean draft of . They displaced on the surface and submerged. The A-class submarines had a crew of 2 officers and 11 ratings. For surface running, the boats were powered by a'}, {'id': '13067941', 'title': 'A10 Networks', 'text': 'app services across on-premise, cloud and hybrid environments. In January 2018, A10 expanded its DDoS security portfolio with the introduction of the A10 DDoS Protection Cloud, a single advanced solution for on-premise and cloud scrubbing enterprise DDoS defenses. A10 Networks A10 Networks is a U.S. public company specializing in the manufacturing of application delivery controllers (software and hardware). Founded in 2004 by Lee Chen, co-founder of Foundry Networks, A10 originally serviced just the identity management market with its line of ID Series products. In early 2007 they added bandwidth management appliances (EX Series). The company had its initial public offering'}, {'id': '7379529', 'title': 'Motorola A1000', 'text': 'Motorola A1000 The Motorola A1000 is a 3G smartphone from Motorola using the UIQ platform based upon Symbian OS. One of the most notable features is its built-in A-GPS. The A1000 is the successor to the A925 and A920. A variant device, named the M1000, appeared in 2005 for the Japanese market, distributed by NTT DoCoMo. The M1000 has a similar spec to the A1000 but supports Wi-Fi instead of GPS/A-GPS. The A1000 was released in Q4 2004, but was available only on contract through 3, in just a few countries (mostly Australia, Austria, Denmark, Italy, Singapore[SingTel], Sweden and the'}, {'id': '8161430', 'title': 'A570 road', 'text': 'A570 road The A570 is a primary route in Northern England, that runs from St Helens to Southport. Until the early 1970s, the road ran from a junction with the A57 road at Bold Heath, four miles west of Warrington. The road currently begins at junction 7 (Rainhill Stoops) of the M62 motorway in Merseyside, and runs in a northerly direction as a dual carriageway through the centre of St Helens, meeting the A58 road, then the A580 road to the north of the town. The road continues in a north-westerly direction, bypassing Rainford to dual carriageway standard. It crosses'}, {'id': '3564751', 'title': 'HMS A10', 'text': 'from Vickers. She was laid down at their shipyard in Barrow-in-Furness in 1903, launched on 8 February 1905 and completed on 3 June 1905. She collided with the battleship in Plymouth Sound on 30 April 1906. \"A10\" was sold for scrap to the Ardrossan Drydock Company of Ardrossan, Scotland, on 1 April 1919 . HMS A10 HMS \"A10\" was an submarine built for the Royal Navy in the first decade of the 20th century. After surviving World War I, she was sold for scrap in 1919. \"A10\" was a member of the first British class of submarines, although slightly larger,'}, {'id': '3082669', 'title': 'Cruiser Mk II', 'text': 'Cruiser Mk II The Tank, Cruiser, Mk II (A10), was a cruiser tank developed alongside the A9 cruiser tank, and was intended to be a heavier, infantry tank version of that type. In practice, it was not deemed suitable for the infantry tank role and was classified as a \"heavy cruiser\". The A10 was developed by Sir John Carden of Vickers in 1934 by the adaptation of his A9 design. The A10 specification called for armour of up to standard (the A9 was ); a speed of ) was acceptable. The two sub-turrets present on the A9 were removed, and'}, {'id': '17146244', 'title': 'A10 motorway (Portugal)', 'text': 'A10 motorway (Portugal) The A10 (Circular Regional Exterior de Lisboa) is a short Portuguese motorway to the north and north-east of Lisbon. It provides a relatively direct connection between the A9 (Lisbon Regional Outer Circular) at the Junction 7 (Benavente), the A1 at Carregado and the A13 with which it links at Benavente. The newest portion of the road, incorporating the Lezíria Bridge (Ponte da Lezíria) was opened in July 2007. The Ponte da Lezíria section comprises approximately 12 kilometers (8 miles) of bridges and viaducts across the lush marshland of the Ribatejo section of the Tagus estuary. Together with'}, {'id': '19721010', 'title': 'Apple A10', 'text': 'A10 is the M10 motion coprocessor. The A10 also includes a new image processor which Apple says has twice the throughput of the prior image processor. The A10 is packaged in a new InFO packaging from TSMC which reduces the height of the package. In the same package there are also four LPDDR4 RAM chips integrating 2 GB of RAM in the iPhone 7, or 3 GB in the iPhone 7 Plus. Apple A10 The Apple A10 Fusion is a 64-bit ARM-based system on a chip (SoC), designed by Apple Inc. and manufactured by TSMC. It first appeared in the'}, {'id': '10841110', 'title': 'A10 motorway (Netherlands)', 'text': 'A10 motorway (Netherlands) The A10 motorway () is a motorway in the Netherlands. This motorway is the ring road around the city of Amsterdam. It has a length of 32 km. Five other motorways connect to the A10: motorway A8 at interchange Coenplein (north), motorway A5 at interchange Coenplein (south), A4 at interchange De Nieuwe Meer, A2 at interchange Amstel, and A1 at interchange Watergraafsmeer. Part of the A10 is the Coentunnel, crossing the Noordzeekanaal (\"North Sea Canal\"). This twin tube tunnel is notorious for traffic jams for decades, reason why another two tubes have been built. These new tubes'}]\n"
     ]
    },
    {
     "name": "stderr",
     "output_type": "stream",
     "text": [
      "\n"
     ]
    }
   ],
   "source": [
    "idx = 0\n",
    "print(dataset[idx]['question'])\n",
    "print(dataset[idx]['answers'])\n",
    "rs = retriever.search_document(['a'], top_n=10)\n",
    "rs = retriever.search_document(['a','b'], top_n=10)\n",
    "rs = retriever.search_document(['a','b','c'], top_n=10)\n",
    "\n",
    "rs = retriever.search_document(['a'+str(i) for i in range(100)], top_n=10)\n",
    "print(rs)"
   ]
  },
  {
   "cell_type": "code",
   "execution_count": 9,
   "metadata": {},
   "outputs": [
    {
     "name": "stdout",
     "output_type": "stream",
     "text": [
      "10\n"
     ]
    }
   ],
   "source": [
    "print(len(rs))"
   ]
  }
 ],
 "metadata": {
  "kernelspec": {
   "display_name": "torch_241",
   "language": "python",
   "name": "python3"
  },
  "language_info": {
   "codemirror_mode": {
    "name": "ipython",
    "version": 3
   },
   "file_extension": ".py",
   "mimetype": "text/x-python",
   "name": "python",
   "nbconvert_exporter": "python",
   "pygments_lexer": "ipython3",
   "version": "3.9.19"
  }
 },
 "nbformat": 4,
 "nbformat_minor": 2
}
