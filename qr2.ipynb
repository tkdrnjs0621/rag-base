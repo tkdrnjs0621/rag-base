{
 "cells": [
  {
   "cell_type": "code",
   "execution_count": 1,
   "metadata": {},
   "outputs": [],
   "source": [
    "from transformers import AutoModelForCausalLM, AutoTokenizer\n",
    "import torch\n",
    "import argparse\n",
    "import re\n",
    "import time\n",
    "from datetime import timedelta\n",
    "from functools import partial\n",
    "import logging\n",
    "from datasets import load_dataset, Dataset\n",
    "from tqdm import tqdm\n",
    "import os\n",
    "from torch.utils.data import DataLoader\n",
    "\n",
    "from src.retriever import Retriever\n",
    "from types import SimpleNamespace"
   ]
  },
  {
   "cell_type": "code",
   "execution_count": 2,
   "metadata": {},
   "outputs": [],
   "source": [
    "os.environ['CUDA_VISIBLE_DEVICES']='0'"
   ]
  },
  {
   "cell_type": "code",
   "execution_count": 3,
   "metadata": {},
   "outputs": [
    {
     "name": "stdout",
     "output_type": "stream",
     "text": [
      "Loading model from: facebook/contriever-msmarco\n"
     ]
    },
    {
     "name": "stderr",
     "output_type": "stream",
     "text": [
      "/home/tkdrnjs0621/miniconda3/envs/torch_241/lib/python3.9/site-packages/transformers/tokenization_utils_base.py:1601: FutureWarning: `clean_up_tokenization_spaces` was not set. It will be set to `True` by default. This behavior will be depracted in transformers v4.45, and will be then set to `False` by default. For more details check this issue: https://github.com/huggingface/transformers/issues/31884\n",
      "  warnings.warn(\n"
     ]
    },
    {
     "name": "stdout",
     "output_type": "stream",
     "text": [
      "Indexing passages from files ['data/corpus/wikipedia_embeddings/passages_00', 'data/corpus/wikipedia_embeddings/passages_01', 'data/corpus/wikipedia_embeddings/passages_02', 'data/corpus/wikipedia_embeddings/passages_03', 'data/corpus/wikipedia_embeddings/passages_04', 'data/corpus/wikipedia_embeddings/passages_05', 'data/corpus/wikipedia_embeddings/passages_06', 'data/corpus/wikipedia_embeddings/passages_07', 'data/corpus/wikipedia_embeddings/passages_08', 'data/corpus/wikipedia_embeddings/passages_09', 'data/corpus/wikipedia_embeddings/passages_10', 'data/corpus/wikipedia_embeddings/passages_11', 'data/corpus/wikipedia_embeddings/passages_12', 'data/corpus/wikipedia_embeddings/passages_13', 'data/corpus/wikipedia_embeddings/passages_14', 'data/corpus/wikipedia_embeddings/passages_15']\n",
      "Loading file data/corpus/wikipedia_embeddings/passages_00\n",
      "Total data indexed 1000000\n",
      "Loading file data/corpus/wikipedia_embeddings/passages_01\n",
      "Total data indexed 2000000\n",
      "Loading file data/corpus/wikipedia_embeddings/passages_02\n",
      "Total data indexed 3000000\n",
      "Loading file data/corpus/wikipedia_embeddings/passages_03\n",
      "Total data indexed 4000000\n",
      "Total data indexed 5000000\n",
      "Loading file data/corpus/wikipedia_embeddings/passages_04\n",
      "Total data indexed 6000000\n",
      "Loading file data/corpus/wikipedia_embeddings/passages_05\n",
      "Total data indexed 7000000\n",
      "Loading file data/corpus/wikipedia_embeddings/passages_06\n",
      "Total data indexed 8000000\n",
      "Total data indexed 9000000\n",
      "Loading file data/corpus/wikipedia_embeddings/passages_07\n",
      "Total data indexed 10000000\n",
      "Loading file data/corpus/wikipedia_embeddings/passages_08\n",
      "Total data indexed 11000000\n",
      "Loading file data/corpus/wikipedia_embeddings/passages_09\n",
      "Total data indexed 12000000\n",
      "Total data indexed 13000000\n",
      "Loading file data/corpus/wikipedia_embeddings/passages_10\n",
      "Total data indexed 14000000\n",
      "Loading file data/corpus/wikipedia_embeddings/passages_11\n",
      "Total data indexed 15000000\n",
      "Loading file data/corpus/wikipedia_embeddings/passages_12\n",
      "Total data indexed 16000000\n",
      "Total data indexed 17000000\n",
      "Loading file data/corpus/wikipedia_embeddings/passages_13\n",
      "Total data indexed 18000000\n",
      "Loading file data/corpus/wikipedia_embeddings/passages_14\n",
      "Total data indexed 19000000\n",
      "Loading file data/corpus/wikipedia_embeddings/passages_15\n",
      "Total data indexed 20000000\n",
      "Total data indexed 21000000\n",
      "Total data indexed 21015324\n",
      "Data indexing completed.\n",
      "Indexing time: 211.5 s.\n",
      "loading passages\n",
      "passages have been loaded\n"
     ]
    }
   ],
   "source": [
    "\n",
    "arg = SimpleNamespace()\n",
    "arg.retrieval_model_name_or_path=\"facebook/contriever-msmarco\"\n",
    "arg.retrieval_embedding_size=768\n",
    "arg.passages='data/corpus/psgs_w100.tsv'\n",
    "arg.passages_embeddings='data/corpus/wikipedia_embeddings/*'\n",
    "arg.indexing_batch_size=1000000\n",
    "arg.save_or_load_index = False\n",
    "arg.retrieval_n_subquantizers=0\n",
    "arg.retrieval_n_bits=8\n",
    "arg.max_k=100\n",
    "arg.lowercase = False\n",
    "arg.normalize_text = False\n",
    "arg.per_gpu_batch_size=1000000\n",
    "arg.question_maxlength=100000\n",
    "\n",
    "retriever = Retriever(arg)\n",
    "retriever.setup_retriever()"
   ]
  },
  {
   "cell_type": "code",
   "execution_count": 9,
   "metadata": {},
   "outputs": [],
   "source": []
  },
  {
   "cell_type": "code",
   "execution_count": 4,
   "metadata": {},
   "outputs": [],
   "source": [
    "#retriever.reset_args(arg)"
   ]
  },
  {
   "cell_type": "code",
   "execution_count": 5,
   "metadata": {},
   "outputs": [],
   "source": [
    "from datasets import Dataset\n",
    "dataset = Dataset.from_json(\"data/eval_data/triviaqa_test.jsonl\")"
   ]
  },
  {
   "cell_type": "code",
   "execution_count": 20,
   "metadata": {},
   "outputs": [
    {
     "name": "stdout",
     "output_type": "stream",
     "text": [
      "Who was the man behind The Chipmunks?\n",
      "['David Seville', 'david seville']\n",
      "Questions embeddings shape: torch.Size([2, 768])\n"
     ]
    },
    {
     "name": "stderr",
     "output_type": "stream",
     "text": [
      "100%|██████████| 1/1 [00:05<00:00,  5.60s/it]"
     ]
    },
    {
     "name": "stdout",
     "output_type": "stream",
     "text": [
      "Search time: 5.6 s.\n",
      "[{'id': '19100640', 'title': 'Hello (Adele song)', 'text': 'Hello (Adele song) \"Hello\" is a song by English singer-songwriter Adele, released on 23 October 2015 by XL Recordings as the lead single from her third studio album, \"25\" (2015). Adele co-wrote the song with her producer, Greg Kurstin. \"Hello\" is a piano ballad with soul influences, and lyrics that discuss themes of nostalgia and regret. Upon release, the song was acclaimed by music critics, who compared it favourably to Adele\\'s previous work and praised the song\\'s lyrics and Adele\\'s vocals. It was recorded in London\\'s Metropolis Studios. \"Hello\" reached number one in almost every country it charted in, including'}, {'id': '19100670', 'title': 'Hello (Adele song)', 'text': 'Dimes\". Personnel Hello (Adele song) \"Hello\" is a song by English singer-songwriter Adele, released on 23 October 2015 by XL Recordings as the lead single from her third studio album, \"25\" (2015). Adele co-wrote the song with her producer, Greg Kurstin. \"Hello\" is a piano ballad with soul influences, and lyrics that discuss themes of nostalgia and regret. Upon release, the song was acclaimed by music critics, who compared it favourably to Adele\\'s previous work and praised the song\\'s lyrics and Adele\\'s vocals. It was recorded in London\\'s Metropolis Studios. \"Hello\" reached number one in almost every country it charted'}, {'id': '19100666', 'title': 'Hello (Adele song)', 'text': 'you want to enter someone else\\'s; you want to travel somewhere; you want to be told a story. I\\'m realizing maybe I\\'ve been more distracting than anything else with that flip phone, but it wasn\\'t intentional!\" The music video for the song broke the previous Vevo Record by achieving over 27.7 million views within a 24-hour period. Later, the video continued to break Miley Cyrus\\'s \"Wrecking Ball\" Vevo record for the fastest video to reach 100 million views in 5 days. The phrase \"Adele hello\" was also the top YouTube search term of Friday and Saturday, and on average the'}, {'id': '19100650', 'title': 'Hello (Adele song)', 'text': '\"The Daily Telegraph\" called it \"a beautiful song of loss and regret\", adding that \"it takes a grip on the kind of memory every listener holds somewhere in their heart and merges it with Adele\\'s own drama.\" \"Rolling Stone\" ranked \"Hello\" at number 6 on its year-end list to find the 50 best songs of 2015. Several publications have commented on similarities in the theme of the song and accompanying video with that of \"Hello\" by American singer Lionel Richie. Three days after its release, the Official Charts Company announced that \"Hello\" had accumulated 165,000 chart sales in the United'}, {'id': '19100645', 'title': 'Hello (Adele song)', 'text': 'the key of F minor at a tempo of 79 beats per minute. The repeated chord progression heard in the verse, played by the piano, follows a progression of Fm–A–E–D. According to Musicnotes.com, Adele\\'s vocals span from F to A in the song. During the chorus, Adele is heard singing the lines over layers of backing vocals, piano and drums which were described by \"The Daily Telegraph\" as having \"a very luscious wall of sound\". Lyrically, the song focuses on themes of nostalgia and regret and plays out like a conversation. The song was noted for containing themes of regret'}, {'id': '19100661', 'title': 'Hello (Adele song)', 'text': 'also benefitted from numerous Dance/EDM remixes as well, thus resulting in \"Hello\" topping \"Billboard\\'s\" Dance Club Songs and Dance/Mix Show Airplay charts. On the chart dated 23 April 2016, the song spent a 21st week at the top of the Adult Contemporary Chart, matching the record set by Kelly Clarkson\\'s \"Breakaway\" (2005) and Celine Dion\\'s \"A New Day Has Come\" (2002) for the longest No. 1 run among women since the list launched in 1961. It also equaled the third-longest stay at the summit among all acts. \"Hello\" debuted at number one on the Canadian Hot 100 on 3 November'}, {'id': '19100643', 'title': 'Hello (Adele song)', 'text': '(88 days). The clip received seven nominations at the 2016 MTV Video Music Awards, including Video of the Year and Best Female Video. Adele promoted the song with a live performance on a BBC one-hour-long special, entitled \"Adele at the BBC\". At the 59th Annual Grammy Awards, \"Hello\" won three Grammy Awards: Record of the Year, Song of the Year, and Best Pop Solo Performance. At the 36th Brit Awards, \"Hello\" won British Single of the Year and was nominated for British Video of the Year. \"Hello\" was written by Adele and Greg Kurstin and produced by the latter. Kurstin'}, {'id': '19100662', 'title': 'Hello (Adele song)', 'text': '2015, for the chart dated 14 November 2015, selling 140,000 copies and outsold Justin Bieber\\'s \"Sorry\", which sold 40,000 units the same week. The song was streamed 4.79 million times in its first week, setting a record for the most streamed track in a single week in Canada. The accompanying music video for the song was directed by Canadian actor and director Xavier Dolan and released on 22 October 2015, despite the fact the song was released as a single a day later. The concept of the video revolves around a recently broken-up woman calling a younger version of herself.'}, {'id': '19100649', 'title': 'Hello (Adele song)', 'text': 'for \"The Independent\", Emily Jupp stated in her review of the song that it \"might not be groundbreaking, but Adele\\'s return with her familiar, smoky sound is very welcome\". She called it an if it ain\\'t broke\\' ballad\" and said: \"Adele does what she does best, belting out emotional tales of love and loss much the same as with her last album, \"21\", but this time, with a little more self-forgiveness.\" Greg Kot of the \"Chicago Tribune\" wrote: \"Lyrics that work best when they zoom in on personal details match her combination of vocal power and restraint.\" Neil McCormick from'}, {'id': '19100653', 'title': 'Hello (Adele song)', 'text': 'at number one in Belgium, Czech Republic, France, Germany, Greece, Hungary, Ireland, Israel, Italy, Lebanon, Luxembourg, The Netherlands, Norway, Portugal, Scotland, Slovakia, Spain and Switzerland. In Australia, \"Hello\" entered at the top of the ARIA Singles Chart on 31 October 2015, selling over 59,075 units, which earned the song a gold certification in its first week. The song also became the second fastest-selling single of the year, behind Wiz Khalifa\\'s \"See You Again\". It marked Adele\\'s second number-one single on the ARIA Singles Chart following 2011\\'s \"Someone like You\". The single stayed atop the chart for a second week and'}]\n",
      "[{'id': '20365267', 'title': '4 (Lead album)', 'text': '4 (Lead album) 4 is the fourth studio album by Japanese hip-hop group Lead. The album was released as their fourth album on their four-year anniversary. It ranked lower on the Oricon charts than their previous album, coming in at number 18 and only remaining on the charts for two weeks. Each album came with one of four possible 3D trading cards. \"4\" is the fourth studio album by four-member Japanese hip-hop dance troupe Lead. It was released on their fourth anniversary as artists, giving the album its title. The album was one of their lower ranking albums on the'}, {'id': '20365270', 'title': '4 (Lead album)', 'text': 'composition done by both Nice and Yasunori Tanaka. 4 (Lead album) 4 is the fourth studio album by Japanese hip-hop group Lead. The album was released as their fourth album on their four-year anniversary. It ranked lower on the Oricon charts than their previous album, coming in at number 18 and only remaining on the charts for two weeks. Each album came with one of four possible 3D trading cards. \"4\" is the fourth studio album by four-member Japanese hip-hop dance troupe Lead. It was released on their fourth anniversary as artists, giving the album its title. The album was'}, {'id': '16862287', 'title': 'Sempiternal (album)', 'text': 'Sempiternal (album) Sempiternal is the fourth studio album by British rock band Bring Me the Horizon. It was released on 1 April 2013 worldwide through RCA Records, a subsidiary label of Sony Music, and 2 April 2013 in the United States and Canada through Epitaph Records. It is the first album to feature former Worship keyboardist Jordan Fish and was believed to be the last album to feature guitarist Jona Weinhofen. However, Weinhofen\\'s role within the album\\'s development has been faced with controversy. Written and recorded throughout 2012, \"Sempiternal\" showed the band pull diverse influences from electronic music, ambient music'}, {'id': '12521341', 'title': 'The New Zapp IV U', 'text': 'The New Zapp IV U The New Zapp IV U is the fourth studio album by the American funk band Zapp, released on October 25, 1985 by Warner Bros. Records. The album contained the song \"Computer Love\", which reached #8 on the US \"Billboard\" R&B chart. The album became the last release before frontman Roger Troutman would focus his efforts on his solo career; their next album, titled \"Zapp Vibe\" would be released later in 1989. The song \"Radio People\" was featured in the movie \"Ferris Bueller\\'s Day Off\". As well the cover for \"I Only Have Eyes 4 U\"'}, {'id': '605031', 'title': 'Led Zeppelin IV', 'text': 'Led Zeppelin IV The untitled fourth studio album by the English rock band Led Zeppelin, commonly known as Led Zeppelin IV, was released on 8 November 1971 by Atlantic Records. It was produced by guitarist Jimmy Page and recorded between December 1970 and February 1971, mostly in the country house Headley Grange. The album contains one of the band\\'s best known songs, \"Stairway to Heaven\". The informal setting at Headley Grange inspired the band, and allowed them to try different arrangements of material and create songs in a variety of styles. After the band\\'s previous album \"Led Zeppelin III\" received'}, {'id': '9803900', 'title': 'Zeraphine', 'text': 'Christianity. Once Zeraphine, the band signed onto the Drakkar Entertainment record label. Originally, additional band members Manuel Senger (guitars), Michael Nepp (bass), and Marcellus Puhlemann (drums) joined the project as studio musicians. This changed after their debut album was released, and each member began contributing music and ideas to all following releases. Zeraphine’s debut album, \"Kalte Sonne\" (2002), gained notoriety for its lyrics; unlike Dreadful Shadows, whose songs were written entirely in English, Sven elected to pen an album completely in German, citing that \"I simply tried to transfer my style of writing to my mother tongue and I liked'}, {'id': '8413442', 'title': 'The Fourth Judgement', 'text': 'The Fourth Judgement The Fourth Judgement is the third studio album released (fourth recorded) by American power metal band Jag Panzer, released in 1997. It features the return of the band\\'s original vocalist, Harry \"The Tyrant\" Conklin, and the replacement of Chris Kostka on lead guitar by Joey Tafolla. The band returns to a more epic power metal feel on this album, as opposed to the thrash influence on Dissident Alliance. It was re-released June 5, 2007 with a new cover and three bonus songs from the band’s 1996 demo sessions - the demo that got the band signed to'}, {'id': '8227301', 'title': 'The Red Jumpsuit Apparatus', 'text': 'release, the band released two of the songs on their page. On October 11, 2013, the band revealed their fourth studio album, titled \"4\", was \\'coming soon\\' via their Facebook page. They also revealed that David Bendeth would be producing the LP. Three days later, again through Facebook, the band announced Matt Carter was returning to the band and would be playing lead guitar for \"4\". On January 1, 2014, the band announced that \"4\", as well as the rest of their discography, would be released July 4, 2014. This band planned to perform their first rock show in India'}, {'id': '237398', 'title': 'Led Zeppelin', 'text': 'have been exaggerated. According to music journalist Chris Welch, \"[Led Zeppelin\\'s] travels spawned many stories, but it was a myth that [they] were constantly engaged in acts of wanton destruction and lewd behaviour\". Led Zeppelin released their fourth album on 8 November 1971. In response to the treatment they had received from critics, particularly after \"Led Zeppelin III\", the band decided to release the fourth album with no title, though it is variously referred to as \"Led Zeppelin IV\", \"Untitled\", \"IV\", or, due to the four symbols appearing on the record label, as \"Four Symbols\", \"Zoso\" or \"Runes\". In addition'}, {'id': '8413443', 'title': 'The Fourth Judgement', 'text': 'Century Media. The Fourth Judgement The Fourth Judgement is the third studio album released (fourth recorded) by American power metal band Jag Panzer, released in 1997. It features the return of the band\\'s original vocalist, Harry \"The Tyrant\" Conklin, and the replacement of Chris Kostka on lead guitar by Joey Tafolla. The band returns to a more epic power metal feel on this album, as opposed to the thrash influence on Dissident Alliance. It was re-released June 5, 2007 with a new cover and three bonus songs from the band’s 1996 demo sessions - the demo that got the band'}]\n"
     ]
    },
    {
     "name": "stderr",
     "output_type": "stream",
     "text": [
      "\n"
     ]
    }
   ],
   "source": [
    "idx = 0\n",
    "print(dataset[idx]['question'])\n",
    "print(dataset[idx]['answers'])\n",
    "rs = retriever.search_document(['Hello Adele song','Led zepplin 4th album'], top_n=10)\n",
    "print(rs[0])\n",
    "print(rs[1])"
   ]
  },
  {
   "cell_type": "code",
   "execution_count": 7,
   "metadata": {},
   "outputs": [],
   "source": [
    "# import faiss"
   ]
  },
  {
   "cell_type": "code",
   "execution_count": 8,
   "metadata": {},
   "outputs": [],
   "source": [
    "# res = faiss.StandardGpuResources()                          # 단일 GPU 사용하기"
   ]
  },
  {
   "cell_type": "code",
   "execution_count": 9,
   "metadata": {},
   "outputs": [],
   "source": [
    "# retriever.index.index= faiss.index_cpu_to_gpu(res,0,retriever.index.index)"
   ]
  },
  {
   "cell_type": "code",
   "execution_count": 10,
   "metadata": {},
   "outputs": [],
   "source": [
    "# x = retriever.embed_queries(retriever.args, ['a'+str(i) for i in range(100)])"
   ]
  },
  {
   "cell_type": "code",
   "execution_count": 11,
   "metadata": {},
   "outputs": [],
   "source": [
    "# len(x)"
   ]
  },
  {
   "cell_type": "code",
   "execution_count": 12,
   "metadata": {},
   "outputs": [],
   "source": [
    "# rs = retriever.search_document([str(i) for i in range(100)], top_n=100)\n",
    "# print(len(rs))"
   ]
  },
  {
   "cell_type": "code",
   "execution_count": 13,
   "metadata": {},
   "outputs": [],
   "source": [
    "# print(rs[59])"
   ]
  },
  {
   "cell_type": "code",
   "execution_count": 14,
   "metadata": {},
   "outputs": [],
   "source": [
    "\n",
    "# questions_embedding = retriever.embed_queries(retriever.args,[str(100+i) for i in range(200)])\n",
    "\n",
    "# # get top k results\n",
    "# start_time_retrieval = time.time()\n",
    "# top_ids_and_scores = retriever.index.search_knn(questions_embedding, retriever.args.max_k)\n",
    "\n",
    "# print(f\"Search time: {time.time()-start_time_retrieval:.1f} s.\")\n",
    "\n",
    "# final=[]\n",
    "# for k in top_ids_and_scores:\n",
    "#     tmp=[]\n",
    "#     for kk in k[0]:\n",
    "#         tmp.append(retriever.passage_id_map[kk])\n",
    "#     final.append(tmp)\n",
    "# # retriever.passage_id_map \n",
    "# # print(len(top_ids_and_scores))\n",
    "# # print(len(top_ids_and_scores[0]))\n",
    "# # print(len(top_ids_and_scores[0][0]))\n"
   ]
  },
  {
   "cell_type": "code",
   "execution_count": 15,
   "metadata": {},
   "outputs": [],
   "source": [
    "# idx = 0\n",
    "# print(dataset[idx]['question'])\n",
    "# print(dataset[idx]['answers'])\n",
    "# rs = retriever.search_document(['a'], top_n=10)\n",
    "# rs = retriever.search_document(['a','b'], top_n=10)\n",
    "# rs = retriever.search_document(['a','b','c'], top_n=10)\n",
    "\n",
    "# rs = retriever.search_document(['a'+str(i) for i in range(100)], top_n=10)\n",
    "# print(rs)"
   ]
  },
  {
   "cell_type": "code",
   "execution_count": 16,
   "metadata": {},
   "outputs": [],
   "source": [
    "# print(len(rs))"
   ]
  }
 ],
 "metadata": {
  "kernelspec": {
   "display_name": "torch_241",
   "language": "python",
   "name": "python3"
  },
  "language_info": {
   "codemirror_mode": {
    "name": "ipython",
    "version": 3
   },
   "file_extension": ".py",
   "mimetype": "text/x-python",
   "name": "python",
   "nbconvert_exporter": "python",
   "pygments_lexer": "ipython3",
   "version": "3.9.19"
  }
 },
 "nbformat": 4,
 "nbformat_minor": 2
}
